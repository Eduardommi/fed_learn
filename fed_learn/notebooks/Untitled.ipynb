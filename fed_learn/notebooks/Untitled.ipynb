{
 "cells": [
  {
   "cell_type": "code",
   "execution_count": 117,
   "id": "59ab0773-a661-4ea6-ba3c-cb7d639c014a",
   "metadata": {},
   "outputs": [],
   "source": [
    "import pandas as pd\n",
    "import numpy as np\n",
    "import operator\n",
    "\n",
    "from sklearn.feature_selection import mutual_info_classif\n",
    "from sklearn.model_selection import train_test_split\n",
    "from sklearn.metrics import classification_report\n",
    "from sklearn.neural_network import MLPClassifier\n",
    "\n",
    "from lightgbm import LGBMClassifier"
   ]
  },
  {
   "cell_type": "code",
   "execution_count": 2,
   "id": "7a756cf1-d626-4a2f-8eb3-0593c80d308e",
   "metadata": {},
   "outputs": [
    {
     "name": "stdout",
     "output_type": "stream",
     "text": [
      "2022-04-24 12:44:16,016 - kedro.io.data_catalog - INFO - Loading data from `train_transaction` (CSVDataSet)...\n",
      "2022-04-24 12:44:25,237 - kedro.io.data_catalog - INFO - Loading data from `train_identity` (CSVDataSet)...\n"
     ]
    }
   ],
   "source": [
    "df_transaction = catalog.load('train_transaction')\n",
    "df_id = catalog.load('train_identity')"
   ]
  },
  {
   "cell_type": "code",
   "execution_count": 26,
   "id": "af02bbb3-6c90-418a-9a71-ec523d39faa7",
   "metadata": {},
   "outputs": [
    {
     "data": {
      "text/plain": [
       "Index(['id_01', 'id_02', 'id_03', 'id_04', 'id_05', 'id_06', 'id_07', 'id_08',\n",
       "       'id_09', 'id_10', 'id_11', 'id_12', 'id_13', 'id_14', 'id_15', 'id_16',\n",
       "       'id_17', 'id_18', 'id_19', 'id_20', 'id_21', 'id_22', 'id_23', 'id_24',\n",
       "       'id_25', 'id_26', 'id_27', 'id_28', 'id_29', 'id_30', 'id_31', 'id_32',\n",
       "       'id_33', 'id_34', 'id_35', 'id_36', 'id_37', 'id_38', 'DeviceType',\n",
       "       'DeviceInfo'],\n",
       "      dtype='object')"
      ]
     },
     "execution_count": 26,
     "metadata": {},
     "output_type": "execute_result"
    }
   ],
   "source": [
    "df_id.columns"
   ]
  },
  {
   "cell_type": "code",
   "execution_count": 5,
   "id": "a13f793c-b7b1-469d-9a23-293f6bc5116d",
   "metadata": {},
   "outputs": [],
   "source": [
    "df_join = df_transaction.merge(df_id, how='left', left_index=True, right_index=True)"
   ]
  },
  {
   "cell_type": "code",
   "execution_count": 29,
   "id": "b87b8c5f-432f-44ab-a57b-33ee542bf305",
   "metadata": {},
   "outputs": [],
   "source": [
    "# COLUMNS WITH STRINGS\n",
    "str_type = ['ProductCD', 'card4', 'card6', 'P_emaildomain', 'R_emaildomain','M1', 'M2', 'M3', 'M4','M5',\n",
    "            'M6', 'M7', 'M8', 'M9', 'id_12', 'id_15', 'id_16', 'id_23', 'id_27', 'id_28', 'id_29', 'id_30', \n",
    "            'id_31', 'id_33', 'id_34', 'id_35', 'id_36', 'id_37', 'id_38', 'DeviceType', 'DeviceInfo']\n",
    "str_type += ['id_12', 'id_15', 'id_16', 'id_23', 'id_27', 'id_28', 'id_29', 'id_30', \n",
    "            'id_31', 'id_33', 'id_34', 'id_35', 'id_36', 'id_37', 'id_38']\n",
    "\n",
    "# FIRST 53 COLUMNS\n",
    "cols = ['TransactionDT', 'TransactionAmt',\n",
    "       'ProductCD', 'card1', 'card2', 'card3', 'card4', 'card5', 'card6',\n",
    "       'addr1', 'addr2', 'dist1', 'dist2', 'P_emaildomain', 'R_emaildomain',\n",
    "       'C1', 'C2', 'C3', 'C4', 'C5', 'C6', 'C7', 'C8', 'C9', 'C10', 'C11',\n",
    "       'C12', 'C13', 'C14', 'D1', 'D2', 'D3', 'D4', 'D5', 'D6', 'D7', 'D8',\n",
    "       'D9', 'D10', 'D11', 'D12', 'D13', 'D14', 'D15', 'M1', 'M2', 'M3', 'M4',\n",
    "       'M5', 'M6', 'M7', 'M8', 'M9']\n",
    "\n",
    "# V COLUMNS TO LOAD DECIDED BY CORRELATION EDA\n",
    "# https://www.kaggle.com/cdeotte/eda-for-columns-v-and-id\n",
    "v =  [1, 3, 4, 6, 8, 11]\n",
    "v += [13, 14, 17, 20, 23, 26, 27, 30]\n",
    "v += [36, 37, 40, 41, 44, 47, 48]\n",
    "v += [54, 56, 59, 62, 65, 67, 68, 70]\n",
    "v += [76, 78, 80, 82, 86, 88, 89, 91]\n",
    "\n",
    "#v += [96, 98, 99, 104] #relates to groups, no NAN \n",
    "v += [107, 108, 111, 115, 117, 120, 121, 123] # maybe group, no NAN\n",
    "v += [124, 127, 129, 130, 136] # relates to groups, no NAN\n",
    "\n",
    "# LOTS OF NAN BELOW\n",
    "v += [138, 139, 142, 147, 156, 162] #b1\n",
    "v += [165, 160, 166] #b1\n",
    "v += [178, 176, 173, 182] #b2\n",
    "v += [187, 203, 205, 207, 215] #b2\n",
    "v += [169, 171, 175, 180, 185, 188, 198, 210, 209] #b2\n",
    "v += [218, 223, 224, 226, 228, 229, 235] #b3\n",
    "v += [240, 258, 257, 253, 252, 260, 261] #b3\n",
    "v += [264, 266, 267, 274, 277] #b3\n",
    "v += [220, 221, 234, 238, 250, 271] #b3\n",
    "\n",
    "v += [294, 284, 285, 286, 291, 297] # relates to grous, no NAN\n",
    "v += [303, 305, 307, 309, 310, 320] # relates to groups, no NAN\n",
    "v += [281, 283, 289, 296, 301, 314] # relates to groups, no NAN\n",
    "#v += [332, 325, 335, 338] # b4 lots NAN\n",
    "\n",
    "cols += ['V'+str(x) for x in v]\n",
    "dtypes = {}\n",
    "for c in cols+['id_0'+str(x) for x in range(1,10)]+['id_'+str(x) for x in range(10,34)]+\\\n",
    "    ['id_0'+str(x) for x in range(1,10)]+['id_'+str(x) for x in range(10,34)]:\n",
    "        dtypes[c] = 'float32'\n",
    "for c in str_type: dtypes[c] = 'category'"
   ]
  },
  {
   "cell_type": "code",
   "execution_count": 33,
   "id": "9be9730b-0195-4b76-bbf2-7ed545d115dc",
   "metadata": {},
   "outputs": [],
   "source": [
    "df_join = df_join.astype(dtypes)"
   ]
  },
  {
   "cell_type": "code",
   "execution_count": 34,
   "id": "4407f141-5029-438e-99b8-f3e62a7a34fb",
   "metadata": {},
   "outputs": [
    {
     "data": {
      "text/html": [
       "<div>\n",
       "<style scoped>\n",
       "    .dataframe tbody tr th:only-of-type {\n",
       "        vertical-align: middle;\n",
       "    }\n",
       "\n",
       "    .dataframe tbody tr th {\n",
       "        vertical-align: top;\n",
       "    }\n",
       "\n",
       "    .dataframe thead th {\n",
       "        text-align: right;\n",
       "    }\n",
       "</style>\n",
       "<table border=\"1\" class=\"dataframe\">\n",
       "  <thead>\n",
       "    <tr style=\"text-align: right;\">\n",
       "      <th></th>\n",
       "      <th>isFraud</th>\n",
       "      <th>TransactionDT</th>\n",
       "      <th>TransactionAmt</th>\n",
       "      <th>ProductCD</th>\n",
       "      <th>card1</th>\n",
       "      <th>card2</th>\n",
       "      <th>card3</th>\n",
       "      <th>card4</th>\n",
       "      <th>card5</th>\n",
       "      <th>card6</th>\n",
       "      <th>...</th>\n",
       "      <th>id_31</th>\n",
       "      <th>id_32</th>\n",
       "      <th>id_33</th>\n",
       "      <th>id_34</th>\n",
       "      <th>id_35</th>\n",
       "      <th>id_36</th>\n",
       "      <th>id_37</th>\n",
       "      <th>id_38</th>\n",
       "      <th>DeviceType</th>\n",
       "      <th>DeviceInfo</th>\n",
       "    </tr>\n",
       "    <tr>\n",
       "      <th>TransactionID</th>\n",
       "      <th></th>\n",
       "      <th></th>\n",
       "      <th></th>\n",
       "      <th></th>\n",
       "      <th></th>\n",
       "      <th></th>\n",
       "      <th></th>\n",
       "      <th></th>\n",
       "      <th></th>\n",
       "      <th></th>\n",
       "      <th></th>\n",
       "      <th></th>\n",
       "      <th></th>\n",
       "      <th></th>\n",
       "      <th></th>\n",
       "      <th></th>\n",
       "      <th></th>\n",
       "      <th></th>\n",
       "      <th></th>\n",
       "      <th></th>\n",
       "      <th></th>\n",
       "    </tr>\n",
       "  </thead>\n",
       "  <tbody>\n",
       "    <tr>\n",
       "      <th>2987000</th>\n",
       "      <td>0</td>\n",
       "      <td>86400.0</td>\n",
       "      <td>68.5</td>\n",
       "      <td>W</td>\n",
       "      <td>13926.0</td>\n",
       "      <td>NaN</td>\n",
       "      <td>150.0</td>\n",
       "      <td>discover</td>\n",
       "      <td>142.0</td>\n",
       "      <td>credit</td>\n",
       "      <td>...</td>\n",
       "      <td>NaN</td>\n",
       "      <td>NaN</td>\n",
       "      <td>NaN</td>\n",
       "      <td>NaN</td>\n",
       "      <td>NaN</td>\n",
       "      <td>NaN</td>\n",
       "      <td>NaN</td>\n",
       "      <td>NaN</td>\n",
       "      <td>NaN</td>\n",
       "      <td>NaN</td>\n",
       "    </tr>\n",
       "    <tr>\n",
       "      <th>2987001</th>\n",
       "      <td>0</td>\n",
       "      <td>86401.0</td>\n",
       "      <td>29.0</td>\n",
       "      <td>W</td>\n",
       "      <td>2755.0</td>\n",
       "      <td>404.0</td>\n",
       "      <td>150.0</td>\n",
       "      <td>mastercard</td>\n",
       "      <td>102.0</td>\n",
       "      <td>credit</td>\n",
       "      <td>...</td>\n",
       "      <td>NaN</td>\n",
       "      <td>NaN</td>\n",
       "      <td>NaN</td>\n",
       "      <td>NaN</td>\n",
       "      <td>NaN</td>\n",
       "      <td>NaN</td>\n",
       "      <td>NaN</td>\n",
       "      <td>NaN</td>\n",
       "      <td>NaN</td>\n",
       "      <td>NaN</td>\n",
       "    </tr>\n",
       "    <tr>\n",
       "      <th>2987002</th>\n",
       "      <td>0</td>\n",
       "      <td>86469.0</td>\n",
       "      <td>59.0</td>\n",
       "      <td>W</td>\n",
       "      <td>4663.0</td>\n",
       "      <td>490.0</td>\n",
       "      <td>150.0</td>\n",
       "      <td>visa</td>\n",
       "      <td>166.0</td>\n",
       "      <td>debit</td>\n",
       "      <td>...</td>\n",
       "      <td>NaN</td>\n",
       "      <td>NaN</td>\n",
       "      <td>NaN</td>\n",
       "      <td>NaN</td>\n",
       "      <td>NaN</td>\n",
       "      <td>NaN</td>\n",
       "      <td>NaN</td>\n",
       "      <td>NaN</td>\n",
       "      <td>NaN</td>\n",
       "      <td>NaN</td>\n",
       "    </tr>\n",
       "    <tr>\n",
       "      <th>2987003</th>\n",
       "      <td>0</td>\n",
       "      <td>86499.0</td>\n",
       "      <td>50.0</td>\n",
       "      <td>W</td>\n",
       "      <td>18132.0</td>\n",
       "      <td>567.0</td>\n",
       "      <td>150.0</td>\n",
       "      <td>mastercard</td>\n",
       "      <td>117.0</td>\n",
       "      <td>debit</td>\n",
       "      <td>...</td>\n",
       "      <td>NaN</td>\n",
       "      <td>NaN</td>\n",
       "      <td>NaN</td>\n",
       "      <td>NaN</td>\n",
       "      <td>NaN</td>\n",
       "      <td>NaN</td>\n",
       "      <td>NaN</td>\n",
       "      <td>NaN</td>\n",
       "      <td>NaN</td>\n",
       "      <td>NaN</td>\n",
       "    </tr>\n",
       "    <tr>\n",
       "      <th>2987004</th>\n",
       "      <td>0</td>\n",
       "      <td>86506.0</td>\n",
       "      <td>50.0</td>\n",
       "      <td>H</td>\n",
       "      <td>4497.0</td>\n",
       "      <td>514.0</td>\n",
       "      <td>150.0</td>\n",
       "      <td>mastercard</td>\n",
       "      <td>102.0</td>\n",
       "      <td>credit</td>\n",
       "      <td>...</td>\n",
       "      <td>samsung browser 6.2</td>\n",
       "      <td>32.0</td>\n",
       "      <td>2220x1080</td>\n",
       "      <td>match_status:2</td>\n",
       "      <td>T</td>\n",
       "      <td>F</td>\n",
       "      <td>T</td>\n",
       "      <td>T</td>\n",
       "      <td>mobile</td>\n",
       "      <td>SAMSUNG SM-G892A Build/NRD90M</td>\n",
       "    </tr>\n",
       "  </tbody>\n",
       "</table>\n",
       "<p>5 rows × 433 columns</p>\n",
       "</div>"
      ],
      "text/plain": [
       "               isFraud  TransactionDT  TransactionAmt ProductCD    card1  \\\n",
       "TransactionID                                                              \n",
       "2987000              0        86400.0            68.5         W  13926.0   \n",
       "2987001              0        86401.0            29.0         W   2755.0   \n",
       "2987002              0        86469.0            59.0         W   4663.0   \n",
       "2987003              0        86499.0            50.0         W  18132.0   \n",
       "2987004              0        86506.0            50.0         H   4497.0   \n",
       "\n",
       "               card2  card3       card4  card5   card6  ...  \\\n",
       "TransactionID                                           ...   \n",
       "2987000          NaN  150.0    discover  142.0  credit  ...   \n",
       "2987001        404.0  150.0  mastercard  102.0  credit  ...   \n",
       "2987002        490.0  150.0        visa  166.0   debit  ...   \n",
       "2987003        567.0  150.0  mastercard  117.0   debit  ...   \n",
       "2987004        514.0  150.0  mastercard  102.0  credit  ...   \n",
       "\n",
       "                             id_31  id_32      id_33           id_34 id_35  \\\n",
       "TransactionID                                                                \n",
       "2987000                        NaN    NaN        NaN             NaN   NaN   \n",
       "2987001                        NaN    NaN        NaN             NaN   NaN   \n",
       "2987002                        NaN    NaN        NaN             NaN   NaN   \n",
       "2987003                        NaN    NaN        NaN             NaN   NaN   \n",
       "2987004        samsung browser 6.2   32.0  2220x1080  match_status:2     T   \n",
       "\n",
       "              id_36  id_37  id_38  DeviceType                     DeviceInfo  \n",
       "TransactionID                                                                 \n",
       "2987000         NaN    NaN    NaN         NaN                            NaN  \n",
       "2987001         NaN    NaN    NaN         NaN                            NaN  \n",
       "2987002         NaN    NaN    NaN         NaN                            NaN  \n",
       "2987003         NaN    NaN    NaN         NaN                            NaN  \n",
       "2987004           F      T      T      mobile  SAMSUNG SM-G892A Build/NRD90M  \n",
       "\n",
       "[5 rows x 433 columns]"
      ]
     },
     "execution_count": 34,
     "metadata": {},
     "output_type": "execute_result"
    }
   ],
   "source": [
    "df_join.head()"
   ]
  },
  {
   "cell_type": "code",
   "execution_count": 39,
   "id": "a2b63016-351c-4c37-8f80-f84c77b48f73",
   "metadata": {},
   "outputs": [],
   "source": [
    "X = df_join.drop('isFraud', axis=1)\n",
    "y = df_join['isFraud']"
   ]
  },
  {
   "cell_type": "code",
   "execution_count": 40,
   "id": "bca46bb7-0903-4727-8968-fc5d44efe9a3",
   "metadata": {},
   "outputs": [],
   "source": [
    "X_train, X_test, y_train, y_test = train_test_split(X, y, random_state=42, test_size=0.30)"
   ]
  },
  {
   "cell_type": "code",
   "execution_count": 45,
   "id": "face7ee3-2c5f-46e4-ba60-0df6e62d84ce",
   "metadata": {},
   "outputs": [],
   "source": [
    "model = LGBMClassifier(random_state=42, max_depth=7)"
   ]
  },
  {
   "cell_type": "code",
   "execution_count": 46,
   "id": "6883c7e5-c548-490f-9783-98386d5a5ab8",
   "metadata": {},
   "outputs": [
    {
     "data": {
      "text/plain": [
       "LGBMClassifier(max_depth=7, random_state=42)"
      ]
     },
     "execution_count": 46,
     "metadata": {},
     "output_type": "execute_result"
    }
   ],
   "source": [
    "model.fit(X_train, y_train)"
   ]
  },
  {
   "cell_type": "code",
   "execution_count": 48,
   "id": "1bedc1fb-1706-4f48-9725-ca2e2c3ad9cd",
   "metadata": {},
   "outputs": [],
   "source": [
    "y_pred_train = model.predict(X_train)\n",
    "y_pred_test = model.predict(X_test)"
   ]
  },
  {
   "cell_type": "code",
   "execution_count": 50,
   "id": "5772b3d3-43c1-407a-b9e8-0758f2038393",
   "metadata": {},
   "outputs": [
    {
     "name": "stdout",
     "output_type": "stream",
     "text": [
      "              precision    recall  f1-score   support\n",
      "\n",
      "           0       0.98      1.00      0.99    277732\n",
      "           1       0.96      0.50      0.65     10096\n",
      "\n",
      "    accuracy                           0.98    287828\n",
      "   macro avg       0.97      0.75      0.82    287828\n",
      "weighted avg       0.98      0.98      0.98    287828\n",
      "\n"
     ]
    }
   ],
   "source": [
    "print(classification_report(y_train, y_pred_train))"
   ]
  },
  {
   "cell_type": "code",
   "execution_count": 51,
   "id": "bf4e5741-a2b3-4899-ac57-8f669fe8f7a2",
   "metadata": {},
   "outputs": [
    {
     "name": "stdout",
     "output_type": "stream",
     "text": [
      "              precision    recall  f1-score   support\n",
      "\n",
      "           0       0.98      1.00      0.99    118992\n",
      "           1       0.92      0.47      0.62      4364\n",
      "\n",
      "    accuracy                           0.98    123356\n",
      "   macro avg       0.95      0.73      0.80    123356\n",
      "weighted avg       0.98      0.98      0.98    123356\n",
      "\n"
     ]
    }
   ],
   "source": [
    "print(classification_report(y_test, y_pred_test))"
   ]
  },
  {
   "cell_type": "code",
   "execution_count": null,
   "id": "ec597e19-9834-4510-8079-b5cc81115d07",
   "metadata": {},
   "outputs": [],
   "source": []
  },
  {
   "cell_type": "code",
   "execution_count": null,
   "id": "4760c6d0-9297-46f4-a2e7-c596b2287973",
   "metadata": {},
   "outputs": [],
   "source": []
  },
  {
   "cell_type": "code",
   "execution_count": null,
   "id": "c78d14fb-b0e3-4674-b4d1-bfde10d4c8d7",
   "metadata": {},
   "outputs": [],
   "source": []
  },
  {
   "cell_type": "code",
   "execution_count": null,
   "id": "888bac6b-538c-4bfa-9896-d6fbe61bb130",
   "metadata": {},
   "outputs": [],
   "source": []
  },
  {
   "cell_type": "code",
   "execution_count": 59,
   "id": "e20d439d-651a-4d5c-8bf7-c529d8b0af15",
   "metadata": {},
   "outputs": [],
   "source": [
    "columns_half = int(len(df_join.columns[1:])/2)"
   ]
  },
  {
   "cell_type": "code",
   "execution_count": 62,
   "id": "55732738-c312-4af1-affb-754096df9c6f",
   "metadata": {},
   "outputs": [],
   "source": [
    "columns1 = df_join.columns[1:columns_half]\n",
    "columns2 = df_join.columns[columns_half:]"
   ]
  },
  {
   "cell_type": "code",
   "execution_count": 72,
   "id": "d6c057cd-d9d7-4855-ba2d-925d97fe07d5",
   "metadata": {},
   "outputs": [],
   "source": [
    "X_train_1 = X_train[columns1]\n",
    "X_train_2 = X_train[columns2]\n",
    "\n",
    "X_test_1 = X_test[columns1]\n",
    "X_test_2 = X_test[columns2]"
   ]
  },
  {
   "cell_type": "code",
   "execution_count": 73,
   "id": "dfbf6c4e-be3f-4090-9db9-85350b7dd550",
   "metadata": {},
   "outputs": [],
   "source": [
    "model_bank1 = LGBMClassifier(random_state=42)\n",
    "model_bank2 = LGBMClassifier(random_state=42)"
   ]
  },
  {
   "cell_type": "code",
   "execution_count": 74,
   "id": "e492eef5-9476-4f31-a7e5-b91cc68185fd",
   "metadata": {},
   "outputs": [
    {
     "data": {
      "text/plain": [
       "LGBMClassifier(random_state=42)"
      ]
     },
     "execution_count": 74,
     "metadata": {},
     "output_type": "execute_result"
    }
   ],
   "source": [
    "model_bank1.fit(X_train_1, y_train)\n",
    "model_bank2.fit(X_train_2, y_train)"
   ]
  },
  {
   "cell_type": "code",
   "execution_count": 191,
   "id": "685091d2-43c3-4190-944d-2f40ac1805dc",
   "metadata": {},
   "outputs": [],
   "source": [
    "pred1 = model_bank1.predict_proba(X_train_1)\n",
    "pred2 = model_bank2.predict_proba(X_train_2)\n",
    "\n",
    "pred1_test = model_bank1.predict_proba(X_test_1)\n",
    "pred2_test = model_bank2.predict_proba(X_test_2)"
   ]
  },
  {
   "cell_type": "code",
   "execution_count": 112,
   "id": "be6ff1bf-ddec-4bf2-ad8e-8d958f037bff",
   "metadata": {},
   "outputs": [],
   "source": [
    "pred_final = []\n",
    "\n",
    "for i in range(len(X_train_1)):\n",
    "    pred_final.append(np.hstack((pred1[i], pred2[i])))"
   ]
  },
  {
   "cell_type": "code",
   "execution_count": 118,
   "id": "bb366fb4-d9de-4228-9657-51a0240be500",
   "metadata": {},
   "outputs": [],
   "source": [
    "model_final = MLPClassifier(\n",
    "    hidden_layer_sizes=(500, 100, 30), learning_rate_init=0.001, verbose=True\n",
    ")"
   ]
  },
  {
   "cell_type": "code",
   "execution_count": 151,
   "id": "4e9d3bf6-7ae0-45a7-ba62-893e90560052",
   "metadata": {},
   "outputs": [
    {
     "name": "stdout",
     "output_type": "stream",
     "text": [
      "Iteration 1, loss = 0.06927634\n",
      "Iteration 2, loss = 0.06219373\n",
      "Iteration 3, loss = 0.06178642\n",
      "Iteration 4, loss = 0.06162904\n",
      "Iteration 5, loss = 0.06152753\n",
      "Iteration 6, loss = 0.06135160\n",
      "Iteration 7, loss = 0.06122047\n",
      "Iteration 8, loss = 0.06104491\n",
      "Iteration 9, loss = 0.06088922\n",
      "Iteration 10, loss = 0.06090634\n",
      "Iteration 11, loss = 0.06086483\n",
      "Iteration 12, loss = 0.06082754\n",
      "Iteration 13, loss = 0.06073203\n",
      "Iteration 14, loss = 0.06074999\n",
      "Iteration 15, loss = 0.06073291\n",
      "Iteration 16, loss = 0.06065957\n",
      "Iteration 17, loss = 0.06062902\n",
      "Iteration 18, loss = 0.06065417\n",
      "Iteration 19, loss = 0.06063386\n",
      "Iteration 20, loss = 0.06060440\n",
      "Training loss did not improve more than tol=0.000100 for 10 consecutive epochs. Stopping.\n"
     ]
    },
    {
     "data": {
      "text/plain": [
       "MLPClassifier(hidden_layer_sizes=(500, 100, 30), verbose=True)"
      ]
     },
     "execution_count": 151,
     "metadata": {},
     "output_type": "execute_result"
    }
   ],
   "source": [
    "model_final.fit(pred_final, y_train.reset_index()['isFraud'])"
   ]
  },
  {
   "cell_type": "code",
   "execution_count": 192,
   "id": "f75404d7-4035-4c47-a01b-35dc742d63fc",
   "metadata": {},
   "outputs": [],
   "source": [
    "pred_final_test = []\n",
    "\n",
    "for i in range(len(X_test_1)):\n",
    "    pred_final_test.append(np.hstack((pred1_test[i], pred2_test[i])))"
   ]
  },
  {
   "cell_type": "code",
   "execution_count": 153,
   "id": "800bb597-fc66-4148-9866-8c05282be3f4",
   "metadata": {},
   "outputs": [
    {
     "name": "stdout",
     "output_type": "stream",
     "text": [
      "              precision    recall  f1-score   support\n",
      "\n",
      "           0       0.96      0.98      0.97    118992\n",
      "           1       0.04      0.02      0.03      4364\n",
      "\n",
      "    accuracy                           0.94    123356\n",
      "   macro avg       0.50      0.50      0.50    123356\n",
      "weighted avg       0.93      0.94      0.94    123356\n",
      "\n"
     ]
    }
   ],
   "source": [
    "print(classification_report(y_test.reset_index()['isFraud'], model_final.predict(pred_final_test)))"
   ]
  },
  {
   "cell_type": "code",
   "execution_count": null,
   "id": "2418bb74-9d21-4b8f-8df9-98a377f8f0b4",
   "metadata": {},
   "outputs": [],
   "source": []
  },
  {
   "cell_type": "code",
   "execution_count": null,
   "id": "9176066b-6119-4e6f-b7b1-2e2e9b3dfab4",
   "metadata": {},
   "outputs": [],
   "source": []
  },
  {
   "cell_type": "code",
   "execution_count": null,
   "id": "75a6f4aa-edd7-4d7a-a09b-ef6e7203b7ac",
   "metadata": {},
   "outputs": [],
   "source": []
  },
  {
   "cell_type": "code",
   "execution_count": 175,
   "id": "fee3dde9-791b-426c-8917-98bd740c1f71",
   "metadata": {},
   "outputs": [],
   "source": [
    "a = pd.DataFrame(pred_final)"
   ]
  },
  {
   "cell_type": "code",
   "execution_count": 176,
   "id": "833f95e8-974f-4daa-8c10-0319fdd8842b",
   "metadata": {},
   "outputs": [],
   "source": [
    "a['target'] = y_train.reset_index()['isFraud']"
   ]
  },
  {
   "cell_type": "code",
   "execution_count": 177,
   "id": "b4298275-a0e8-4a8f-8c4e-4b68f2d526c9",
   "metadata": {},
   "outputs": [],
   "source": [
    "X_f = a.drop('target', axis=1)\n",
    "y_f = a['target']"
   ]
  },
  {
   "cell_type": "code",
   "execution_count": 178,
   "id": "e246b73b-497a-4fed-a032-f1a627457ca8",
   "metadata": {},
   "outputs": [],
   "source": [
    "model_final = MLPClassifier(\n",
    "    hidden_layer_sizes=(500, 100, 10), learning_rate_init=0.001, verbose=True\n",
    ")"
   ]
  },
  {
   "cell_type": "code",
   "execution_count": 179,
   "id": "b2ca63b6-dae4-492e-929c-3f2118c21ed5",
   "metadata": {},
   "outputs": [
    {
     "name": "stdout",
     "output_type": "stream",
     "text": [
      "Iteration 1, loss = 0.07024767\n",
      "Iteration 2, loss = 0.06204459\n",
      "Iteration 3, loss = 0.06193924\n",
      "Iteration 4, loss = 0.06156993\n",
      "Iteration 5, loss = 0.06143936\n",
      "Iteration 6, loss = 0.06128142\n",
      "Iteration 7, loss = 0.06111594\n",
      "Iteration 8, loss = 0.06104650\n",
      "Iteration 9, loss = 0.06101656\n",
      "Iteration 10, loss = 0.06089691\n",
      "Iteration 11, loss = 0.06086339\n",
      "Iteration 12, loss = 0.06084877\n",
      "Iteration 13, loss = 0.06073190\n",
      "Iteration 14, loss = 0.06086313\n",
      "Iteration 15, loss = 0.06075371\n",
      "Iteration 16, loss = 0.06072179\n",
      "Iteration 17, loss = 0.06064212\n",
      "Iteration 18, loss = 0.06060605\n",
      "Iteration 19, loss = 0.06064127\n",
      "Iteration 20, loss = 0.06056813\n",
      "Iteration 21, loss = 0.06060415\n",
      "Iteration 22, loss = 0.06057753\n",
      "Iteration 23, loss = 0.06050995\n",
      "Iteration 24, loss = 0.06057839\n",
      "Training loss did not improve more than tol=0.000100 for 10 consecutive epochs. Stopping.\n"
     ]
    },
    {
     "data": {
      "text/plain": [
       "MLPClassifier(hidden_layer_sizes=(500, 100, 10), verbose=True)"
      ]
     },
     "execution_count": 179,
     "metadata": {},
     "output_type": "execute_result"
    }
   ],
   "source": [
    "model_final.fit(X_f, y_f)"
   ]
  },
  {
   "cell_type": "code",
   "execution_count": 180,
   "id": "05f1e7f8-ea1a-4b41-8518-3362cbae658f",
   "metadata": {},
   "outputs": [
    {
     "name": "stdout",
     "output_type": "stream",
     "text": [
      "              precision    recall  f1-score   support\n",
      "\n",
      "           0       0.99      1.00      0.99    277732\n",
      "           1       0.87      0.60      0.71     10096\n",
      "\n",
      "    accuracy                           0.98    287828\n",
      "   macro avg       0.93      0.80      0.85    287828\n",
      "weighted avg       0.98      0.98      0.98    287828\n",
      "\n"
     ]
    }
   ],
   "source": [
    "print(classification_report(y_f, model_final.predict(X_f)))"
   ]
  },
  {
   "cell_type": "code",
   "execution_count": 50,
   "id": "5d09acdc-1c6d-452e-b110-99bbbd8e01d0",
   "metadata": {},
   "outputs": [
    {
     "name": "stdout",
     "output_type": "stream",
     "text": [
      "              precision    recall  f1-score   support\n",
      "\n",
      "           0       0.98      1.00      0.99    277732\n",
      "           1       0.96      0.50      0.65     10096\n",
      "\n",
      "    accuracy                           0.98    287828\n",
      "   macro avg       0.97      0.75      0.82    287828\n",
      "weighted avg       0.98      0.98      0.98    287828\n",
      "\n"
     ]
    }
   ],
   "source": [
    "print(classification_report(y_train, y_pred_train))"
   ]
  },
  {
   "cell_type": "code",
   "execution_count": 193,
   "id": "36a96ce6-f9b0-44a4-8979-29428c64002d",
   "metadata": {},
   "outputs": [],
   "source": [
    "b = pd.DataFrame(pred_final_test)\n",
    "b['target'] = y_test.reset_index()['isFraud']"
   ]
  },
  {
   "cell_type": "code",
   "execution_count": 194,
   "id": "4aaf5342-2751-4e60-bf09-cd6306869d66",
   "metadata": {},
   "outputs": [],
   "source": [
    "X_f1 = b.drop('target', axis=1)\n",
    "y_f1 = b['target']"
   ]
  },
  {
   "cell_type": "code",
   "execution_count": 195,
   "id": "b54b6bbe-9cf4-4ca6-b44b-e077c3c37f32",
   "metadata": {},
   "outputs": [
    {
     "name": "stdout",
     "output_type": "stream",
     "text": [
      "              precision    recall  f1-score   support\n",
      "\n",
      "           0       0.98      1.00      0.99    118992\n",
      "           1       0.84      0.55      0.67      4364\n",
      "\n",
      "    accuracy                           0.98    123356\n",
      "   macro avg       0.91      0.77      0.83    123356\n",
      "weighted avg       0.98      0.98      0.98    123356\n",
      "\n"
     ]
    }
   ],
   "source": [
    "print(classification_report(y_f1, model_final2.predict(X_f1)))"
   ]
  },
  {
   "cell_type": "code",
   "execution_count": 51,
   "id": "7d091453-31b5-4ec4-8faa-5a90f4673f39",
   "metadata": {},
   "outputs": [
    {
     "name": "stdout",
     "output_type": "stream",
     "text": [
      "              precision    recall  f1-score   support\n",
      "\n",
      "           0       0.98      1.00      0.99    118992\n",
      "           1       0.92      0.47      0.62      4364\n",
      "\n",
      "    accuracy                           0.98    123356\n",
      "   macro avg       0.95      0.73      0.80    123356\n",
      "weighted avg       0.98      0.98      0.98    123356\n",
      "\n"
     ]
    }
   ],
   "source": [
    "print(classification_report(y_test, y_pred_test))"
   ]
  },
  {
   "cell_type": "code",
   "execution_count": 196,
   "id": "0aeec5ec-2108-42bb-9333-f1af061092f7",
   "metadata": {},
   "outputs": [
    {
     "data": {
      "text/plain": [
       "(array([0, 1]), array([118992,   4364]))"
      ]
     },
     "execution_count": 196,
     "metadata": {},
     "output_type": "execute_result"
    }
   ],
   "source": [
    "np.unique(y_test, return_counts=True)"
   ]
  },
  {
   "cell_type": "code",
   "execution_count": 197,
   "id": "6ab2eca1-bbb5-4a24-b7ca-3078c4ea7196",
   "metadata": {},
   "outputs": [
    {
     "data": {
      "text/plain": [
       "(array([0, 1]), array([118992,   4364]))"
      ]
     },
     "execution_count": 197,
     "metadata": {},
     "output_type": "execute_result"
    }
   ],
   "source": [
    "np.unique(y_f1, return_counts=True)"
   ]
  },
  {
   "cell_type": "code",
   "execution_count": null,
   "id": "22d99453-f565-41bf-8e89-204c6da78754",
   "metadata": {},
   "outputs": [],
   "source": []
  },
  {
   "cell_type": "code",
   "execution_count": null,
   "id": "8f78bbfc-71ff-4e20-b0ad-23f196bce48c",
   "metadata": {},
   "outputs": [],
   "source": []
  },
  {
   "cell_type": "code",
   "execution_count": null,
   "id": "ec43ef2d-0671-4b07-a219-857558c5a867",
   "metadata": {},
   "outputs": [],
   "source": []
  },
  {
   "cell_type": "code",
   "execution_count": null,
   "id": "5fd47744-3b14-4b5e-90f9-da689b7d8558",
   "metadata": {},
   "outputs": [],
   "source": []
  },
  {
   "cell_type": "code",
   "execution_count": null,
   "id": "da758624-c40f-4eed-b72e-7a9c3be1f20a",
   "metadata": {},
   "outputs": [],
   "source": []
  },
  {
   "cell_type": "code",
   "execution_count": 85,
   "id": "89ba9d7f-2821-4abd-9219-f40c6d2339f8",
   "metadata": {},
   "outputs": [
    {
     "name": "stdout",
     "output_type": "stream",
     "text": [
      "              precision    recall  f1-score   support\n",
      "\n",
      "           0       0.98      1.00      0.99    118992\n",
      "           1       0.90      0.46      0.60      4364\n",
      "\n",
      "    accuracy                           0.98    123356\n",
      "   macro avg       0.94      0.73      0.80    123356\n",
      "weighted avg       0.98      0.98      0.98    123356\n",
      "\n"
     ]
    }
   ],
   "source": [
    "print(classification_report(y_test, model_bank1.predict(X_test_1)))"
   ]
  },
  {
   "cell_type": "code",
   "execution_count": 86,
   "id": "af83795a-16e0-42ad-a2b6-6c3ab47fa55f",
   "metadata": {},
   "outputs": [
    {
     "name": "stdout",
     "output_type": "stream",
     "text": [
      "              precision    recall  f1-score   support\n",
      "\n",
      "           0       0.98      1.00      0.99    118992\n",
      "           1       0.90      0.33      0.48      4364\n",
      "\n",
      "    accuracy                           0.97    123356\n",
      "   macro avg       0.94      0.66      0.73    123356\n",
      "weighted avg       0.97      0.97      0.97    123356\n",
      "\n"
     ]
    }
   ],
   "source": [
    "print(classification_report(y_test, model_bank2.predict(X_test_2)))"
   ]
  },
  {
   "cell_type": "code",
   "execution_count": null,
   "id": "96ba9775-744f-43fa-b495-625d7007fa16",
   "metadata": {},
   "outputs": [],
   "source": []
  },
  {
   "cell_type": "code",
   "execution_count": 4,
   "id": "96bde561-11e1-4816-bad0-0df8c36df629",
   "metadata": {},
   "outputs": [
    {
     "data": {
      "text/plain": [
       "0.03516673800536986"
      ]
     },
     "execution_count": 4,
     "metadata": {},
     "output_type": "execute_result"
    }
   ],
   "source": [
    "df_train_transaction.isFraud.value_counts()[1]/df_train_transaction.shape[0]"
   ]
  },
  {
   "cell_type": "code",
   "execution_count": 31,
   "id": "ffda0820-d5d9-4683-854f-0393dad517a9",
   "metadata": {},
   "outputs": [
    {
     "data": {
      "text/plain": [
       "[0, 0, 0, 0, 0, 1, 1, 1, 1, 1]"
      ]
     },
     "execution_count": 31,
     "metadata": {},
     "output_type": "execute_result"
    }
   ],
   "source": [
    "[0]*5+[1]*5"
   ]
  },
  {
   "cell_type": "code",
   "execution_count": 29,
   "id": "cafdf988-07c9-4718-a445-c8fbc6b0dba3",
   "metadata": {},
   "outputs": [
    {
     "data": {
      "text/html": [
       "<div>\n",
       "<style scoped>\n",
       "    .dataframe tbody tr th:only-of-type {\n",
       "        vertical-align: middle;\n",
       "    }\n",
       "\n",
       "    .dataframe tbody tr th {\n",
       "        vertical-align: top;\n",
       "    }\n",
       "\n",
       "    .dataframe thead th {\n",
       "        text-align: right;\n",
       "    }\n",
       "</style>\n",
       "<table border=\"1\" class=\"dataframe\">\n",
       "  <thead>\n",
       "    <tr style=\"text-align: right;\">\n",
       "      <th></th>\n",
       "      <th>ProductCD</th>\n",
       "      <th>card4</th>\n",
       "      <th>card6</th>\n",
       "      <th>P_emaildomain</th>\n",
       "      <th>R_emaildomain</th>\n",
       "      <th>M1</th>\n",
       "      <th>M2</th>\n",
       "      <th>M3</th>\n",
       "      <th>M4</th>\n",
       "      <th>M5</th>\n",
       "      <th>M6</th>\n",
       "      <th>M7</th>\n",
       "      <th>M8</th>\n",
       "      <th>M9</th>\n",
       "    </tr>\n",
       "  </thead>\n",
       "  <tbody>\n",
       "    <tr>\n",
       "      <th>0</th>\n",
       "      <td>W</td>\n",
       "      <td>discover</td>\n",
       "      <td>credit</td>\n",
       "      <td>NaN</td>\n",
       "      <td>NaN</td>\n",
       "      <td>T</td>\n",
       "      <td>T</td>\n",
       "      <td>T</td>\n",
       "      <td>M2</td>\n",
       "      <td>F</td>\n",
       "      <td>T</td>\n",
       "      <td>NaN</td>\n",
       "      <td>NaN</td>\n",
       "      <td>NaN</td>\n",
       "    </tr>\n",
       "    <tr>\n",
       "      <th>1</th>\n",
       "      <td>W</td>\n",
       "      <td>mastercard</td>\n",
       "      <td>credit</td>\n",
       "      <td>gmail.com</td>\n",
       "      <td>NaN</td>\n",
       "      <td>NaN</td>\n",
       "      <td>NaN</td>\n",
       "      <td>NaN</td>\n",
       "      <td>M0</td>\n",
       "      <td>T</td>\n",
       "      <td>T</td>\n",
       "      <td>NaN</td>\n",
       "      <td>NaN</td>\n",
       "      <td>NaN</td>\n",
       "    </tr>\n",
       "    <tr>\n",
       "      <th>2</th>\n",
       "      <td>W</td>\n",
       "      <td>visa</td>\n",
       "      <td>debit</td>\n",
       "      <td>outlook.com</td>\n",
       "      <td>NaN</td>\n",
       "      <td>T</td>\n",
       "      <td>T</td>\n",
       "      <td>T</td>\n",
       "      <td>M0</td>\n",
       "      <td>F</td>\n",
       "      <td>F</td>\n",
       "      <td>F</td>\n",
       "      <td>F</td>\n",
       "      <td>F</td>\n",
       "    </tr>\n",
       "    <tr>\n",
       "      <th>3</th>\n",
       "      <td>W</td>\n",
       "      <td>mastercard</td>\n",
       "      <td>debit</td>\n",
       "      <td>yahoo.com</td>\n",
       "      <td>NaN</td>\n",
       "      <td>NaN</td>\n",
       "      <td>NaN</td>\n",
       "      <td>NaN</td>\n",
       "      <td>M0</td>\n",
       "      <td>T</td>\n",
       "      <td>F</td>\n",
       "      <td>NaN</td>\n",
       "      <td>NaN</td>\n",
       "      <td>NaN</td>\n",
       "    </tr>\n",
       "    <tr>\n",
       "      <th>4</th>\n",
       "      <td>H</td>\n",
       "      <td>mastercard</td>\n",
       "      <td>credit</td>\n",
       "      <td>gmail.com</td>\n",
       "      <td>NaN</td>\n",
       "      <td>NaN</td>\n",
       "      <td>NaN</td>\n",
       "      <td>NaN</td>\n",
       "      <td>NaN</td>\n",
       "      <td>NaN</td>\n",
       "      <td>NaN</td>\n",
       "      <td>NaN</td>\n",
       "      <td>NaN</td>\n",
       "      <td>NaN</td>\n",
       "    </tr>\n",
       "    <tr>\n",
       "      <th>...</th>\n",
       "      <td>...</td>\n",
       "      <td>...</td>\n",
       "      <td>...</td>\n",
       "      <td>...</td>\n",
       "      <td>...</td>\n",
       "      <td>...</td>\n",
       "      <td>...</td>\n",
       "      <td>...</td>\n",
       "      <td>...</td>\n",
       "      <td>...</td>\n",
       "      <td>...</td>\n",
       "      <td>...</td>\n",
       "      <td>...</td>\n",
       "      <td>...</td>\n",
       "    </tr>\n",
       "    <tr>\n",
       "      <th>411179</th>\n",
       "      <td>W</td>\n",
       "      <td>visa</td>\n",
       "      <td>debit</td>\n",
       "      <td>gmail.com</td>\n",
       "      <td>NaN</td>\n",
       "      <td>T</td>\n",
       "      <td>T</td>\n",
       "      <td>F</td>\n",
       "      <td>NaN</td>\n",
       "      <td>NaN</td>\n",
       "      <td>F</td>\n",
       "      <td>NaN</td>\n",
       "      <td>NaN</td>\n",
       "      <td>NaN</td>\n",
       "    </tr>\n",
       "    <tr>\n",
       "      <th>411180</th>\n",
       "      <td>H</td>\n",
       "      <td>visa</td>\n",
       "      <td>debit</td>\n",
       "      <td>aol.com</td>\n",
       "      <td>msn.com</td>\n",
       "      <td>NaN</td>\n",
       "      <td>NaN</td>\n",
       "      <td>NaN</td>\n",
       "      <td>NaN</td>\n",
       "      <td>NaN</td>\n",
       "      <td>NaN</td>\n",
       "      <td>NaN</td>\n",
       "      <td>NaN</td>\n",
       "      <td>NaN</td>\n",
       "    </tr>\n",
       "    <tr>\n",
       "      <th>411181</th>\n",
       "      <td>H</td>\n",
       "      <td>visa</td>\n",
       "      <td>debit</td>\n",
       "      <td>gmail.com</td>\n",
       "      <td>NaN</td>\n",
       "      <td>NaN</td>\n",
       "      <td>NaN</td>\n",
       "      <td>NaN</td>\n",
       "      <td>NaN</td>\n",
       "      <td>NaN</td>\n",
       "      <td>NaN</td>\n",
       "      <td>NaN</td>\n",
       "      <td>NaN</td>\n",
       "      <td>NaN</td>\n",
       "    </tr>\n",
       "    <tr>\n",
       "      <th>411182</th>\n",
       "      <td>W</td>\n",
       "      <td>visa</td>\n",
       "      <td>debit</td>\n",
       "      <td>NaN</td>\n",
       "      <td>NaN</td>\n",
       "      <td>NaN</td>\n",
       "      <td>NaN</td>\n",
       "      <td>NaN</td>\n",
       "      <td>M0</td>\n",
       "      <td>T</td>\n",
       "      <td>T</td>\n",
       "      <td>NaN</td>\n",
       "      <td>NaN</td>\n",
       "      <td>NaN</td>\n",
       "    </tr>\n",
       "    <tr>\n",
       "      <th>411183</th>\n",
       "      <td>W</td>\n",
       "      <td>mastercard</td>\n",
       "      <td>credit</td>\n",
       "      <td>icloud.com</td>\n",
       "      <td>NaN</td>\n",
       "      <td>NaN</td>\n",
       "      <td>NaN</td>\n",
       "      <td>NaN</td>\n",
       "      <td>M1</td>\n",
       "      <td>F</td>\n",
       "      <td>T</td>\n",
       "      <td>NaN</td>\n",
       "      <td>NaN</td>\n",
       "      <td>NaN</td>\n",
       "    </tr>\n",
       "  </tbody>\n",
       "</table>\n",
       "<p>411184 rows × 14 columns</p>\n",
       "</div>"
      ],
      "text/plain": [
       "       ProductCD       card4   card6 P_emaildomain R_emaildomain   M1   M2  \\\n",
       "0              W    discover  credit           NaN           NaN    T    T   \n",
       "1              W  mastercard  credit     gmail.com           NaN  NaN  NaN   \n",
       "2              W        visa   debit   outlook.com           NaN    T    T   \n",
       "3              W  mastercard   debit     yahoo.com           NaN  NaN  NaN   \n",
       "4              H  mastercard  credit     gmail.com           NaN  NaN  NaN   \n",
       "...          ...         ...     ...           ...           ...  ...  ...   \n",
       "411179         W        visa   debit     gmail.com           NaN    T    T   \n",
       "411180         H        visa   debit       aol.com       msn.com  NaN  NaN   \n",
       "411181         H        visa   debit     gmail.com           NaN  NaN  NaN   \n",
       "411182         W        visa   debit           NaN           NaN  NaN  NaN   \n",
       "411183         W  mastercard  credit    icloud.com           NaN  NaN  NaN   \n",
       "\n",
       "         M3   M4   M5   M6   M7   M8   M9  \n",
       "0         T   M2    F    T  NaN  NaN  NaN  \n",
       "1       NaN   M0    T    T  NaN  NaN  NaN  \n",
       "2         T   M0    F    F    F    F    F  \n",
       "3       NaN   M0    T    F  NaN  NaN  NaN  \n",
       "4       NaN  NaN  NaN  NaN  NaN  NaN  NaN  \n",
       "...     ...  ...  ...  ...  ...  ...  ...  \n",
       "411179    F  NaN  NaN    F  NaN  NaN  NaN  \n",
       "411180  NaN  NaN  NaN  NaN  NaN  NaN  NaN  \n",
       "411181  NaN  NaN  NaN  NaN  NaN  NaN  NaN  \n",
       "411182  NaN   M0    T    T  NaN  NaN  NaN  \n",
       "411183  NaN   M1    F    T  NaN  NaN  NaN  \n",
       "\n",
       "[411184 rows x 14 columns]"
      ]
     },
     "execution_count": 29,
     "metadata": {},
     "output_type": "execute_result"
    }
   ],
   "source": [
    "df_train_transaction.select_dtypes(object)"
   ]
  },
  {
   "cell_type": "code",
   "execution_count": 11,
   "id": "14daf25c-cd55-4f61-b1dd-b666be7f7f76",
   "metadata": {},
   "outputs": [],
   "source": [
    "colunas = {}\n",
    "for col in df_train_transaction.select_dtypes(include=[np.number]).columns:\n",
    "    colunas[col] = mutual_info_classif(X=df_train_transaction[col].fillna(0).values.reshape(-1,1) ,y=df_train_transaction.isFraud, random_state=42)[0]"
   ]
  },
  {
   "cell_type": "code",
   "execution_count": 15,
   "id": "e5e9ab6a-4448-4105-8116-621401b6724a",
   "metadata": {},
   "outputs": [],
   "source": [
    "colunas_sort = sorted(colunas.items(), key=operator.itemgetter(1), reverse=True)"
   ]
  },
  {
   "cell_type": "code",
   "execution_count": null,
   "id": "57440b86-bb5d-4008-9794-540ed37594df",
   "metadata": {},
   "outputs": [],
   "source": []
  },
  {
   "cell_type": "code",
   "execution_count": null,
   "id": "3d87c3ad-bd35-4c2a-bab7-a9cb8b38fa58",
   "metadata": {},
   "outputs": [],
   "source": []
  },
  {
   "cell_type": "code",
   "execution_count": null,
   "id": "e53660aa-b86f-4f79-8b64-d2d4e916a5ad",
   "metadata": {},
   "outputs": [],
   "source": []
  },
  {
   "cell_type": "code",
   "execution_count": null,
   "id": "435687c4-0753-43ba-9e31-c918e56c8f85",
   "metadata": {},
   "outputs": [],
   "source": []
  },
  {
   "cell_type": "code",
   "execution_count": null,
   "id": "3ccb4685-c2cc-4665-af51-284cc0dcc641",
   "metadata": {},
   "outputs": [],
   "source": []
  },
  {
   "cell_type": "code",
   "execution_count": null,
   "id": "ac9be9c4-668f-4ade-9300-fe22f5da5c35",
   "metadata": {},
   "outputs": [],
   "source": []
  },
  {
   "cell_type": "code",
   "execution_count": null,
   "id": "97a0ea2e-b040-45e6-b5b1-b1ce5a242a56",
   "metadata": {},
   "outputs": [],
   "source": []
  }
 ],
 "metadata": {
  "kernelspec": {
   "display_name": "Kedro (fed_learn)",
   "language": "python",
   "name": "kedro_fed_learn"
  },
  "language_info": {
   "codemirror_mode": {
    "name": "ipython",
    "version": 3
   },
   "file_extension": ".py",
   "mimetype": "text/x-python",
   "name": "python",
   "nbconvert_exporter": "python",
   "pygments_lexer": "ipython3",
   "version": "3.8.10"
  }
 },
 "nbformat": 4,
 "nbformat_minor": 5
}
