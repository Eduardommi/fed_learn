{
 "cells": [
  {
   "cell_type": "markdown",
   "id": "0f30a910-c5a8-490c-af23-c15a00501474",
   "metadata": {},
   "source": [
    "# Importar pacotes necessarios"
   ]
  },
  {
   "cell_type": "code",
   "execution_count": 1,
   "id": "59ab0773-a661-4ea6-ba3c-cb7d639c014a",
   "metadata": {},
   "outputs": [],
   "source": [
    "import pandas as pd\n",
    "import numpy as np\n",
    "import operator\n",
    "import gc\n",
    "import pickle\n",
    "\n",
    "from sklearn.feature_selection import mutual_info_classif\n",
    "from sklearn.preprocessing import OrdinalEncoder, StandardScaler\n",
    "from sklearn.model_selection import train_test_split\n",
    "from sklearn.metrics import classification_report\n",
    "from sklearn.neural_network import MLPClassifier\n",
    "from sklearn.cluster import KMeans\n",
    "from sklearn.decomposition import PCA\n",
    "\n",
    "from lightgbm import LGBMClassifier"
   ]
  },
  {
   "cell_type": "markdown",
   "id": "22f48491-e04d-408e-b5e8-257b377a2102",
   "metadata": {},
   "source": [
    "# Carregar datasets"
   ]
  },
  {
   "cell_type": "code",
   "execution_count": 2,
   "id": "7a756cf1-d626-4a2f-8eb3-0593c80d308e",
   "metadata": {},
   "outputs": [
    {
     "name": "stdout",
     "output_type": "stream",
     "text": [
      "2022-05-18 10:31:37,925 - kedro.io.data_catalog - INFO - Loading data from `train_transaction` (CSVDataSet)...\n",
      "2022-05-18 10:32:20,612 - kedro.io.data_catalog - INFO - Loading data from `train_identity` (CSVDataSet)...\n"
     ]
    }
   ],
   "source": [
    "df_transaction = catalog.load('train_transaction')\n",
    "df_id = catalog.load('train_identity')"
   ]
  },
  {
   "cell_type": "markdown",
   "id": "e707b01a-b133-41de-b39b-c39bd574058e",
   "metadata": {},
   "source": [
    "Realizar o cruzamento dos dois datasets para que estejam em um so DataFrame"
   ]
  },
  {
   "cell_type": "code",
   "execution_count": 3,
   "id": "a13f793c-b7b1-469d-9a23-293f6bc5116d",
   "metadata": {},
   "outputs": [],
   "source": [
    "df_join = df_transaction.merge(df_id, how='left', left_index=True, right_index=True)"
   ]
  },
  {
   "cell_type": "code",
   "execution_count": 4,
   "id": "c12869a4-a51f-46f1-b763-952dad1921dd",
   "metadata": {},
   "outputs": [
    {
     "data": {
      "text/plain": [
       "3"
      ]
     },
     "execution_count": 4,
     "metadata": {},
     "output_type": "execute_result"
    }
   ],
   "source": [
    "del df_transaction\n",
    "del df_id\n",
    "gc.collect()"
   ]
  },
  {
   "cell_type": "markdown",
   "id": "6a2532c2-61b4-4325-bb3c-e442269381ac",
   "metadata": {},
   "source": [
    "Total de colunas"
   ]
  },
  {
   "cell_type": "code",
   "execution_count": 5,
   "id": "16e01715-0b9d-4bf2-b267-6de88677e980",
   "metadata": {},
   "outputs": [
    {
     "data": {
      "text/plain": [
       "433"
      ]
     },
     "execution_count": 5,
     "metadata": {},
     "output_type": "execute_result"
    }
   ],
   "source": [
    "df_join.shape[1]"
   ]
  },
  {
   "cell_type": "markdown",
   "id": "1e5ceb82-6998-4828-bd2f-0757e3b157fe",
   "metadata": {},
   "source": [
    "# Tratamento dos Dados"
   ]
  },
  {
   "cell_type": "markdown",
   "id": "81f60d92-48f9-434f-8da3-1b3a686bee04",
   "metadata": {},
   "source": [
    "Verificar o percentual de nulos da base"
   ]
  },
  {
   "cell_type": "code",
   "execution_count": 6,
   "id": "af1c6e24-0824-4f89-9e8e-48752a06d7f1",
   "metadata": {},
   "outputs": [],
   "source": [
    "df_aux = pd.DataFrame(df_join.isna().sum(), columns=['count_na'])"
   ]
  },
  {
   "cell_type": "code",
   "execution_count": 7,
   "id": "cd9a6cc1-1254-476b-9c30-114a132427f3",
   "metadata": {},
   "outputs": [],
   "source": [
    "df_aux['perc_na'] = df_aux['count_na']/df_join.shape[0]"
   ]
  },
  {
   "cell_type": "code",
   "execution_count": 8,
   "id": "63a51749-2aad-4e67-80fd-755954e9db6e",
   "metadata": {},
   "outputs": [
    {
     "data": {
      "text/html": [
       "<div>\n",
       "<style scoped>\n",
       "    .dataframe tbody tr th:only-of-type {\n",
       "        vertical-align: middle;\n",
       "    }\n",
       "\n",
       "    .dataframe tbody tr th {\n",
       "        vertical-align: top;\n",
       "    }\n",
       "\n",
       "    .dataframe thead th {\n",
       "        text-align: right;\n",
       "    }\n",
       "</style>\n",
       "<table border=\"1\" class=\"dataframe\">\n",
       "  <thead>\n",
       "    <tr style=\"text-align: right;\">\n",
       "      <th></th>\n",
       "      <th>count_na</th>\n",
       "      <th>perc_na</th>\n",
       "    </tr>\n",
       "  </thead>\n",
       "  <tbody>\n",
       "    <tr>\n",
       "      <th>isFraud</th>\n",
       "      <td>0</td>\n",
       "      <td>0.000000</td>\n",
       "    </tr>\n",
       "    <tr>\n",
       "      <th>TransactionDT</th>\n",
       "      <td>0</td>\n",
       "      <td>0.000000</td>\n",
       "    </tr>\n",
       "    <tr>\n",
       "      <th>TransactionAmt</th>\n",
       "      <td>0</td>\n",
       "      <td>0.000000</td>\n",
       "    </tr>\n",
       "    <tr>\n",
       "      <th>ProductCD</th>\n",
       "      <td>0</td>\n",
       "      <td>0.000000</td>\n",
       "    </tr>\n",
       "    <tr>\n",
       "      <th>card1</th>\n",
       "      <td>0</td>\n",
       "      <td>0.000000</td>\n",
       "    </tr>\n",
       "    <tr>\n",
       "      <th>...</th>\n",
       "      <td>...</td>\n",
       "      <td>...</td>\n",
       "    </tr>\n",
       "    <tr>\n",
       "      <th>id_36</th>\n",
       "      <td>303998</td>\n",
       "      <td>0.739324</td>\n",
       "    </tr>\n",
       "    <tr>\n",
       "      <th>id_37</th>\n",
       "      <td>303998</td>\n",
       "      <td>0.739324</td>\n",
       "    </tr>\n",
       "    <tr>\n",
       "      <th>id_38</th>\n",
       "      <td>303998</td>\n",
       "      <td>0.739324</td>\n",
       "    </tr>\n",
       "    <tr>\n",
       "      <th>DeviceType</th>\n",
       "      <td>304145</td>\n",
       "      <td>0.739681</td>\n",
       "    </tr>\n",
       "    <tr>\n",
       "      <th>DeviceInfo</th>\n",
       "      <td>320116</td>\n",
       "      <td>0.778523</td>\n",
       "    </tr>\n",
       "  </tbody>\n",
       "</table>\n",
       "<p>433 rows × 2 columns</p>\n",
       "</div>"
      ],
      "text/plain": [
       "                count_na   perc_na\n",
       "isFraud                0  0.000000\n",
       "TransactionDT          0  0.000000\n",
       "TransactionAmt         0  0.000000\n",
       "ProductCD              0  0.000000\n",
       "card1                  0  0.000000\n",
       "...                  ...       ...\n",
       "id_36             303998  0.739324\n",
       "id_37             303998  0.739324\n",
       "id_38             303998  0.739324\n",
       "DeviceType        304145  0.739681\n",
       "DeviceInfo        320116  0.778523\n",
       "\n",
       "[433 rows x 2 columns]"
      ]
     },
     "execution_count": 8,
     "metadata": {},
     "output_type": "execute_result"
    }
   ],
   "source": [
    "df_aux"
   ]
  },
  {
   "cell_type": "markdown",
   "id": "f618a582-22dd-4310-9818-d0e27f31dc70",
   "metadata": {},
   "source": [
    "Retirar  colunas que possuam mais do que 80% dos valores nulos"
   ]
  },
  {
   "cell_type": "code",
   "execution_count": 9,
   "id": "a5fe0b3b-fb0a-4d3a-aff1-19c86438b8db",
   "metadata": {},
   "outputs": [],
   "source": [
    "cols_not_na = list(df_aux.loc[df_aux.perc_na < 0.8].index)"
   ]
  },
  {
   "cell_type": "code",
   "execution_count": 10,
   "id": "3960a501-dac6-420e-aa4e-1e21fcdfce93",
   "metadata": {},
   "outputs": [
    {
     "data": {
      "text/plain": [
       "359"
      ]
     },
     "execution_count": 10,
     "metadata": {},
     "output_type": "execute_result"
    }
   ],
   "source": [
    "len(cols_not_na)"
   ]
  },
  {
   "cell_type": "code",
   "execution_count": 11,
   "id": "3bbf349f-ee51-4f2b-a4b6-ded54d7a939d",
   "metadata": {},
   "outputs": [],
   "source": [
    "df_join2 = df_join[cols_not_na]"
   ]
  },
  {
   "cell_type": "markdown",
   "id": "2e2bfc75-5e52-48c6-bb50-0cb006f207ee",
   "metadata": {},
   "source": [
    "Selecionar colunas categoricas"
   ]
  },
  {
   "cell_type": "code",
   "execution_count": 12,
   "id": "587b07a1-2565-40b9-94b6-e6ad7dd3f2cf",
   "metadata": {},
   "outputs": [],
   "source": [
    "object_cols = list(df_join2.select_dtypes('object').columns)"
   ]
  },
  {
   "cell_type": "markdown",
   "id": "52f2c944-7018-46d4-81af-a0f9bfc13e47",
   "metadata": {},
   "source": [
    "Selecionar colunas numericas (sem a variavel resposta)"
   ]
  },
  {
   "cell_type": "code",
   "execution_count": 13,
   "id": "1bffb49d-58f7-4084-b66a-c7f254e550ac",
   "metadata": {},
   "outputs": [],
   "source": [
    "df_aux = df_join2.select_dtypes('number').drop(['isFraud'], axis=1).fillna(0)"
   ]
  },
  {
   "cell_type": "markdown",
   "id": "857107e6-1e7b-4555-8e56-4012d1901169",
   "metadata": {},
   "source": [
    "Selecionar colunas que possuem correlacao menor do que 70%"
   ]
  },
  {
   "cell_type": "code",
   "execution_count": 14,
   "id": "0a49b140-1c1a-49c2-882e-d11eac7b2603",
   "metadata": {
    "scrolled": true,
    "tags": []
   },
   "outputs": [],
   "source": [
    "# list_corr = []\n",
    "# for col in df_aux.columns:\n",
    "#     cols_ = list(set(list(df_aux.columns)) - set(list_corr))\n",
    "#     aux_series = df_aux[cols_].corrwith(df_aux[col])\n",
    "#     if aux_series[(aux_series >= 0.7) & (aux_series <= 0.9999)].shape[0] != 0:\n",
    "#         list_corr.append(col)\n",
    "#     else:\n",
    "#         pass    "
   ]
  },
  {
   "cell_type": "code",
   "execution_count": 15,
   "id": "fdf7dbef-205d-44b2-802f-210de75cb00e",
   "metadata": {},
   "outputs": [],
   "source": [
    "# with open('list_corr.pickle', 'wb') as f0:\n",
    "#     pickle.dump(list_corr, f0)"
   ]
  },
  {
   "cell_type": "code",
   "execution_count": 16,
   "id": "005bec79-95ef-4a0f-9540-fa0f940a3090",
   "metadata": {},
   "outputs": [],
   "source": [
    "with open('list_corr.pickle', 'rb') as f0:\n",
    "    list_corr = pickle.load(f0)"
   ]
  },
  {
   "cell_type": "code",
   "execution_count": 17,
   "id": "21408b03-5315-45c7-8345-200a58772bab",
   "metadata": {},
   "outputs": [],
   "source": [
    "final_cols = object_cols + list_corr\n",
    "final_cols.append('isFraud')"
   ]
  },
  {
   "cell_type": "markdown",
   "id": "86a7a47b-736a-47fb-b945-3586c3b6a143",
   "metadata": {},
   "source": [
    "Selecionar colunas "
   ]
  },
  {
   "cell_type": "code",
   "execution_count": 18,
   "id": "99754fcf-8174-4fbe-ba30-7eb77f8d3712",
   "metadata": {},
   "outputs": [],
   "source": [
    "df_aux1 = df_join2[final_cols].fillna(0)"
   ]
  },
  {
   "cell_type": "code",
   "execution_count": 19,
   "id": "8a21199b-4952-4d23-92a8-dded5903bed0",
   "metadata": {},
   "outputs": [
    {
     "data": {
      "text/plain": [
       "0"
      ]
     },
     "execution_count": 19,
     "metadata": {},
     "output_type": "execute_result"
    }
   ],
   "source": [
    "del df_join\n",
    "del df_join2\n",
    "del df_aux\n",
    "gc.collect()"
   ]
  },
  {
   "cell_type": "markdown",
   "id": "64b106f4-58c9-4388-a672-0220cfbe8c6a",
   "metadata": {},
   "source": [
    "Transformar as variaveis categoricas em ordinais"
   ]
  },
  {
   "cell_type": "code",
   "execution_count": 20,
   "id": "11ab63c0-1293-43e5-ab4d-caa2ccc99a65",
   "metadata": {},
   "outputs": [],
   "source": [
    "oe = OrdinalEncoder()\n",
    "\n",
    "aux1_categ = oe.fit_transform(df_aux1.select_dtypes('object').astype(str))\n",
    "df_aux1_categ = pd.DataFrame(aux1_categ, columns=df_aux1.select_dtypes('object').columns, \n",
    "    index=df_aux1.index\n",
    "    )"
   ]
  },
  {
   "cell_type": "code",
   "execution_count": 21,
   "id": "cf32e919-7a53-4e9f-9d0f-3f6fd04d2078",
   "metadata": {},
   "outputs": [],
   "source": [
    "df_aux2 = df_aux1.drop(df_aux1.select_dtypes('object'), axis=1)\\\n",
    "    .merge(df_aux1_categ, on=df_aux1.index)\\\n",
    "    .drop('key_0', axis=1)"
   ]
  },
  {
   "cell_type": "markdown",
   "id": "40f76a11-4759-4790-99ee-537bc6a93408",
   "metadata": {},
   "source": [
    "Calcular o Mutual Information para verificar a importancia das variaveis"
   ]
  },
  {
   "cell_type": "code",
   "execution_count": 22,
   "id": "0968fcb3-0eb2-434e-b319-c32495820698",
   "metadata": {},
   "outputs": [],
   "source": [
    "# mi = mutual_info_classif(df_aux2.to_numpy(), df_aux2.isFraud.to_numpy())"
   ]
  },
  {
   "cell_type": "code",
   "execution_count": 23,
   "id": "fb4f3e1c-2f58-425d-b2b7-404d521a3128",
   "metadata": {},
   "outputs": [],
   "source": [
    "# with open('mi.pickle', 'wb') as f:\n",
    "#     pickle.dump(mi, f)"
   ]
  },
  {
   "cell_type": "code",
   "execution_count": 24,
   "id": "3f825b46-da81-4d0a-9707-7222a5a74fdc",
   "metadata": {},
   "outputs": [],
   "source": [
    "with open('mi.pickle', 'rb') as f:\n",
    "    mi = pickle.load(f)"
   ]
  },
  {
   "cell_type": "code",
   "execution_count": 25,
   "id": "f2cb1378-b9f1-412b-861f-600308768328",
   "metadata": {},
   "outputs": [],
   "source": [
    "mi_columns = df_aux2.columns"
   ]
  },
  {
   "cell_type": "code",
   "execution_count": 26,
   "id": "85cd05b8-ce99-453a-a0c9-c3a237798e18",
   "metadata": {},
   "outputs": [
    {
     "data": {
      "text/plain": [
       "0"
      ]
     },
     "execution_count": 26,
     "metadata": {},
     "output_type": "execute_result"
    }
   ],
   "source": [
    "del df_aux1\n",
    "del df_aux1_categ\n",
    "\n",
    "gc.collect()"
   ]
  },
  {
   "cell_type": "markdown",
   "id": "026e6b13-e451-4d53-8777-5b7aa83af8e7",
   "metadata": {},
   "source": [
    "Separar a base em treino e teste"
   ]
  },
  {
   "cell_type": "code",
   "execution_count": 27,
   "id": "a2b63016-351c-4c37-8f80-f84c77b48f73",
   "metadata": {},
   "outputs": [],
   "source": [
    "X = df_aux2.drop('isFraud', axis=1)\n",
    "y = df_aux2['isFraud']"
   ]
  },
  {
   "cell_type": "markdown",
   "id": "11bb2dfe-dcbf-4a92-91ed-9bfa25c6bb20",
   "metadata": {},
   "source": [
    "Standard Scaler"
   ]
  },
  {
   "cell_type": "code",
   "execution_count": 28,
   "id": "6b6be83f-2bff-4554-b8c5-5093d49612bb",
   "metadata": {},
   "outputs": [],
   "source": [
    "sc = StandardScaler()"
   ]
  },
  {
   "cell_type": "code",
   "execution_count": 33,
   "id": "200ba48b-4e95-41c5-ae3e-841f90defc29",
   "metadata": {},
   "outputs": [],
   "source": [
    "X2 = pd.DataFrame(sc.fit_transform(X), columns=X.columns, index=X.index)"
   ]
  },
  {
   "cell_type": "code",
   "execution_count": 35,
   "id": "bca46bb7-0903-4727-8968-fc5d44efe9a3",
   "metadata": {},
   "outputs": [],
   "source": [
    "X_train, X_test, y_train, y_test = train_test_split(X2, y, random_state=42, test_size=0.30)"
   ]
  },
  {
   "cell_type": "code",
   "execution_count": 37,
   "id": "ed8ab3f0-14e0-4cd5-8ae8-a64cf13de022",
   "metadata": {},
   "outputs": [
    {
     "data": {
      "text/plain": [
       "959"
      ]
     },
     "execution_count": 37,
     "metadata": {},
     "output_type": "execute_result"
    }
   ],
   "source": [
    "del X\n",
    "del X2\n",
    "del y\n",
    "\n",
    "gc.collect()"
   ]
  },
  {
   "cell_type": "markdown",
   "id": "d212d9c0-aa3a-4502-b151-b9610a8ae1be",
   "metadata": {},
   "source": [
    "# Treinamento"
   ]
  },
  {
   "cell_type": "markdown",
   "id": "24e26fd4-5a95-4051-a5bb-5982eca3dc9d",
   "metadata": {},
   "source": [
    "Treinar o modelo para ser utilizado como padrao"
   ]
  },
  {
   "cell_type": "code",
   "execution_count": 38,
   "id": "face7ee3-2c5f-46e4-ba60-0df6e62d84ce",
   "metadata": {},
   "outputs": [],
   "source": [
    "model = LGBMClassifier(random_state=42, max_depth=7)"
   ]
  },
  {
   "cell_type": "code",
   "execution_count": 39,
   "id": "6883c7e5-c548-490f-9783-98386d5a5ab8",
   "metadata": {},
   "outputs": [
    {
     "data": {
      "text/plain": [
       "LGBMClassifier(max_depth=7, random_state=42)"
      ]
     },
     "execution_count": 39,
     "metadata": {},
     "output_type": "execute_result"
    }
   ],
   "source": [
    "model.fit(X_train, y_train)"
   ]
  },
  {
   "cell_type": "code",
   "execution_count": 40,
   "id": "1bedc1fb-1706-4f48-9725-ca2e2c3ad9cd",
   "metadata": {},
   "outputs": [],
   "source": [
    "y_pred_train = model.predict(X_train)\n",
    "y_pred_test = model.predict(X_test)"
   ]
  },
  {
   "cell_type": "code",
   "execution_count": 41,
   "id": "5772b3d3-43c1-407a-b9e8-0758f2038393",
   "metadata": {},
   "outputs": [
    {
     "name": "stdout",
     "output_type": "stream",
     "text": [
      "              precision    recall  f1-score   support\n",
      "\n",
      "           0       0.98      1.00      0.99    277732\n",
      "           1       0.93      0.43      0.59     10096\n",
      "\n",
      "    accuracy                           0.98    287828\n",
      "   macro avg       0.96      0.71      0.79    287828\n",
      "weighted avg       0.98      0.98      0.98    287828\n",
      "\n"
     ]
    }
   ],
   "source": [
    "print(classification_report(y_train, y_pred_train))"
   ]
  },
  {
   "cell_type": "code",
   "execution_count": 42,
   "id": "bf4e5741-a2b3-4899-ac57-8f669fe8f7a2",
   "metadata": {},
   "outputs": [
    {
     "name": "stdout",
     "output_type": "stream",
     "text": [
      "              precision    recall  f1-score   support\n",
      "\n",
      "           0       0.98      1.00      0.99    118992\n",
      "           1       0.89      0.41      0.56      4364\n",
      "\n",
      "    accuracy                           0.98    123356\n",
      "   macro avg       0.94      0.71      0.78    123356\n",
      "weighted avg       0.98      0.98      0.97    123356\n",
      "\n"
     ]
    }
   ],
   "source": [
    "print(classification_report(y_test, y_pred_test))"
   ]
  },
  {
   "cell_type": "markdown",
   "id": "4dd97384-92ec-412b-9013-fab19c85d371",
   "metadata": {},
   "source": [
    "<p style=\"color:blue\">Aprendizado Federado Vertical - colunas separadas sem criterio</p>\n",
    "\n",
    "Treinar o modelo separadamente e enviar os resultados para um parte central, que ira consolidar os resultados e treinar um novo modelo com essas informacoes"
   ]
  },
  {
   "cell_type": "markdown",
   "id": "9edd2cc0-374e-45a8-b99e-0a5a824092da",
   "metadata": {},
   "source": [
    "- Separar as colunas"
   ]
  },
  {
   "cell_type": "code",
   "execution_count": 43,
   "id": "e20d439d-651a-4d5c-8bf7-c529d8b0af15",
   "metadata": {},
   "outputs": [],
   "source": [
    "columns_half = int(len(df_aux2.columns.drop('isFraud'))/2)"
   ]
  },
  {
   "cell_type": "code",
   "execution_count": 44,
   "id": "55732738-c312-4af1-affb-754096df9c6f",
   "metadata": {},
   "outputs": [],
   "source": [
    "columns1 = df_aux2.columns.drop('isFraud')[1:columns_half]\n",
    "columns2 = df_aux2.columns.drop('isFraud')[columns_half:]"
   ]
  },
  {
   "cell_type": "code",
   "execution_count": 45,
   "id": "d6c057cd-d9d7-4855-ba2d-925d97fe07d5",
   "metadata": {},
   "outputs": [],
   "source": [
    "X_train_1 = X_train[columns1]\n",
    "X_train_2 = X_train[columns2]\n",
    "\n",
    "X_test_1 = X_test[columns1]\n",
    "X_test_2 = X_test[columns2]"
   ]
  },
  {
   "cell_type": "markdown",
   "id": "c778b6b9-b8d3-490a-8584-ada2b22ef1e9",
   "metadata": {},
   "source": [
    "- Treinar os dois modelos localmente"
   ]
  },
  {
   "cell_type": "code",
   "execution_count": 46,
   "id": "dfbf6c4e-be3f-4090-9db9-85350b7dd550",
   "metadata": {},
   "outputs": [],
   "source": [
    "model_bank1 = LGBMClassifier(random_state=42)\n",
    "model_bank2 = LGBMClassifier(random_state=42)"
   ]
  },
  {
   "cell_type": "code",
   "execution_count": 47,
   "id": "e492eef5-9476-4f31-a7e5-b91cc68185fd",
   "metadata": {},
   "outputs": [
    {
     "data": {
      "text/plain": [
       "LGBMClassifier(random_state=42)"
      ]
     },
     "execution_count": 47,
     "metadata": {},
     "output_type": "execute_result"
    }
   ],
   "source": [
    "model_bank1.fit(X_train_1, y_train)\n",
    "model_bank2.fit(X_train_2, y_train)"
   ]
  },
  {
   "cell_type": "markdown",
   "id": "7def617a-64b8-49a5-bbf7-9c3234463dcc",
   "metadata": {},
   "source": [
    "- Preparar as bases para envio "
   ]
  },
  {
   "cell_type": "code",
   "execution_count": 48,
   "id": "685091d2-43c3-4190-944d-2f40ac1805dc",
   "metadata": {},
   "outputs": [],
   "source": [
    "pred1 = model_bank1.predict_proba(X_train_1)\n",
    "pred2 = model_bank2.predict_proba(X_train_2)\n",
    "\n",
    "pred1_test = model_bank1.predict_proba(X_test_1)\n",
    "pred2_test = model_bank2.predict_proba(X_test_2)"
   ]
  },
  {
   "cell_type": "code",
   "execution_count": 49,
   "id": "be6ff1bf-ddec-4bf2-ad8e-8d958f037bff",
   "metadata": {},
   "outputs": [],
   "source": [
    "pred_final = []\n",
    "\n",
    "for i in range(len(X_train_1)):\n",
    "    pred_final.append(np.hstack((pred1[i], pred2[i])))"
   ]
  },
  {
   "cell_type": "code",
   "execution_count": 50,
   "id": "f75404d7-4035-4c47-a01b-35dc742d63fc",
   "metadata": {},
   "outputs": [],
   "source": [
    "pred_final_test = []\n",
    "\n",
    "for i in range(len(X_test_1)):\n",
    "    pred_final_test.append(np.hstack((pred1_test[i], pred2_test[i])))"
   ]
  },
  {
   "cell_type": "markdown",
   "id": "2d8c141e-58ce-4646-bf54-8549a6844f15",
   "metadata": {},
   "source": [
    "- Treino do novo modelo no servidor central"
   ]
  },
  {
   "cell_type": "code",
   "execution_count": 51,
   "id": "bb366fb4-d9de-4228-9657-51a0240be500",
   "metadata": {},
   "outputs": [],
   "source": [
    "model_final = MLPClassifier(\n",
    "    hidden_layer_sizes=(500, 100, 30), learning_rate_init=0.001, verbose=True\n",
    ")"
   ]
  },
  {
   "cell_type": "code",
   "execution_count": 52,
   "id": "4e9d3bf6-7ae0-45a7-ba62-893e90560052",
   "metadata": {},
   "outputs": [
    {
     "name": "stdout",
     "output_type": "stream",
     "text": [
      "Iteration 1, loss = 0.08133433\n",
      "Iteration 2, loss = 0.07622985\n",
      "Iteration 3, loss = 0.07575908\n",
      "Iteration 4, loss = 0.07555859\n",
      "Iteration 5, loss = 0.07557893\n",
      "Iteration 6, loss = 0.07538105\n",
      "Iteration 7, loss = 0.07541593\n",
      "Iteration 8, loss = 0.07526647\n",
      "Iteration 9, loss = 0.07526692\n",
      "Iteration 10, loss = 0.07518245\n",
      "Iteration 11, loss = 0.07525846\n",
      "Iteration 12, loss = 0.07515714\n",
      "Iteration 13, loss = 0.07508917\n",
      "Iteration 14, loss = 0.07504916\n",
      "Iteration 15, loss = 0.07514512\n",
      "Iteration 16, loss = 0.07512429\n",
      "Iteration 17, loss = 0.07506293\n",
      "Iteration 18, loss = 0.07505275\n",
      "Iteration 19, loss = 0.07496977\n",
      "Training loss did not improve more than tol=0.000100 for 10 consecutive epochs. Stopping.\n"
     ]
    },
    {
     "data": {
      "text/plain": [
       "MLPClassifier(hidden_layer_sizes=(500, 100, 30), verbose=True)"
      ]
     },
     "execution_count": 52,
     "metadata": {},
     "output_type": "execute_result"
    }
   ],
   "source": [
    "model_final.fit(pred_final, y_train.reset_index()['isFraud'])"
   ]
  },
  {
   "cell_type": "markdown",
   "id": "98194ed0-17c8-452a-a58e-3714786ffb8f",
   "metadata": {},
   "source": [
    "- Verificar os resultados"
   ]
  },
  {
   "cell_type": "code",
   "execution_count": 53,
   "id": "800bb597-fc66-4148-9866-8c05282be3f4",
   "metadata": {},
   "outputs": [
    {
     "name": "stdout",
     "output_type": "stream",
     "text": [
      "              precision    recall  f1-score   support\n",
      "\n",
      "           0       0.98      1.00      0.99    118992\n",
      "           1       0.81      0.49      0.61      4364\n",
      "\n",
      "    accuracy                           0.98    123356\n",
      "   macro avg       0.90      0.74      0.80    123356\n",
      "weighted avg       0.98      0.98      0.98    123356\n",
      "\n"
     ]
    }
   ],
   "source": [
    "print(classification_report(y_test.reset_index()['isFraud'], model_final.predict(pred_final_test)))"
   ]
  },
  {
   "cell_type": "markdown",
   "id": "639550c8-0c2a-4073-aca6-059791cdb64d",
   "metadata": {},
   "source": [
    "- Verificar resultados dos modelos locais"
   ]
  },
  {
   "cell_type": "code",
   "execution_count": 54,
   "id": "89ba9d7f-2821-4abd-9219-f40c6d2339f8",
   "metadata": {},
   "outputs": [
    {
     "name": "stdout",
     "output_type": "stream",
     "text": [
      "              precision    recall  f1-score   support\n",
      "\n",
      "           0       0.98      1.00      0.99    118992\n",
      "           1       0.88      0.37      0.52      4364\n",
      "\n",
      "    accuracy                           0.98    123356\n",
      "   macro avg       0.93      0.69      0.76    123356\n",
      "weighted avg       0.97      0.98      0.97    123356\n",
      "\n"
     ]
    }
   ],
   "source": [
    "print(classification_report(y_test, model_bank1.predict(X_test_1)))"
   ]
  },
  {
   "cell_type": "code",
   "execution_count": 55,
   "id": "af83795a-16e0-42ad-a2b6-6c3ab47fa55f",
   "metadata": {},
   "outputs": [
    {
     "name": "stdout",
     "output_type": "stream",
     "text": [
      "              precision    recall  f1-score   support\n",
      "\n",
      "           0       0.98      1.00      0.99    118992\n",
      "           1       0.89      0.31      0.46      4364\n",
      "\n",
      "    accuracy                           0.97    123356\n",
      "   macro avg       0.93      0.65      0.72    123356\n",
      "weighted avg       0.97      0.97      0.97    123356\n",
      "\n"
     ]
    }
   ],
   "source": [
    "print(classification_report(y_test, model_bank2.predict(X_test_2)))"
   ]
  },
  {
   "cell_type": "markdown",
   "id": "2aa26fa9-31ed-4b10-8b89-803acb12e60e",
   "metadata": {},
   "source": [
    "<p style=\"color:blue\">Aprendizado Federado Vertical - colunas separadas por Mutual Information</p>\n",
    "\n",
    "Treinar o modelo separadamente e enviar os resultados para um parte central, que ira consolidar os resultados e treinar um novo modelo com essas informacoes. Contudo, as colunas serao ordenadas de acordo com o valor do mutual information"
   ]
  },
  {
   "cell_type": "code",
   "execution_count": 56,
   "id": "14daf25c-cd55-4f61-b1dd-b666be7f7f76",
   "metadata": {},
   "outputs": [],
   "source": [
    "colunas = {}\n",
    "for i, col in enumerate(mi_columns):\n",
    "    colunas[col] = mi[i]\n",
    "\n",
    "del colunas['isFraud']"
   ]
  },
  {
   "cell_type": "code",
   "execution_count": 57,
   "id": "e5e9ab6a-4448-4105-8116-621401b6724a",
   "metadata": {},
   "outputs": [],
   "source": [
    "colunas_sort = sorted(colunas.items(), key=operator.itemgetter(1), reverse=True)"
   ]
  },
  {
   "cell_type": "code",
   "execution_count": 58,
   "id": "3d87c3ad-bd35-4c2a-bab7-a9cb8b38fa58",
   "metadata": {},
   "outputs": [],
   "source": [
    "cols_1 = []\n",
    "cols_2 = []\n",
    "\n",
    "for i in range(len(colunas_sort)):\n",
    "    if i % 2 == 0:\n",
    "        cols_1.append(colunas_sort[i][0])\n",
    "    else:\n",
    "        cols_2.append(colunas_sort[i][0])"
   ]
  },
  {
   "cell_type": "markdown",
   "id": "ec42bab6-64b0-4ee3-8589-3107aafa1183",
   "metadata": {},
   "source": [
    "Separar colunas"
   ]
  },
  {
   "cell_type": "code",
   "execution_count": 59,
   "id": "ac9be9c4-668f-4ade-9300-fe22f5da5c35",
   "metadata": {},
   "outputs": [],
   "source": [
    "X_train_1 = X_train[cols_1]\n",
    "X_train_2 = X_train[cols_2]\n",
    "\n",
    "X_test_1 = X_test[cols_1]\n",
    "X_test_2 = X_test[cols_2]"
   ]
  },
  {
   "cell_type": "markdown",
   "id": "5247ab36-25e8-4bd5-acc6-34487e7828e8",
   "metadata": {},
   "source": [
    "- Treinar os dois modelos localmente"
   ]
  },
  {
   "cell_type": "code",
   "execution_count": 60,
   "id": "a0a4a520-ad31-46b5-bcaf-595a78f04fa3",
   "metadata": {},
   "outputs": [],
   "source": [
    "model_bank1_1 = LGBMClassifier(random_state=42)\n",
    "model_bank2_1 = LGBMClassifier(random_state=42)"
   ]
  },
  {
   "cell_type": "code",
   "execution_count": 61,
   "id": "c2c01534-ec11-45f0-aece-ad410c012ade",
   "metadata": {},
   "outputs": [
    {
     "data": {
      "text/plain": [
       "LGBMClassifier(random_state=42)"
      ]
     },
     "execution_count": 61,
     "metadata": {},
     "output_type": "execute_result"
    }
   ],
   "source": [
    "model_bank1_1.fit(X_train_1, y_train)\n",
    "model_bank2_1.fit(X_train_2, y_train)"
   ]
  },
  {
   "cell_type": "markdown",
   "id": "261836ef-1d83-4194-b759-d4a0d2b23af3",
   "metadata": {},
   "source": [
    "- Preparar as bases para envio "
   ]
  },
  {
   "cell_type": "code",
   "execution_count": 62,
   "id": "ea34f974-07bb-4d42-bcb2-5b57988a70ad",
   "metadata": {},
   "outputs": [],
   "source": [
    "pred1 = model_bank1_1.predict_proba(X_train_1)\n",
    "pred2 = model_bank2_1.predict_proba(X_train_2)\n",
    "\n",
    "pred1_test = model_bank1_1.predict_proba(X_test_1)\n",
    "pred2_test = model_bank2_1.predict_proba(X_test_2)"
   ]
  },
  {
   "cell_type": "code",
   "execution_count": 63,
   "id": "e0433628-9f85-4850-bf47-27bdf271a712",
   "metadata": {},
   "outputs": [],
   "source": [
    "pred_final = []\n",
    "\n",
    "for i in range(len(X_train_1)):\n",
    "    pred_final.append(np.hstack((pred1[i], pred2[i])))"
   ]
  },
  {
   "cell_type": "code",
   "execution_count": 64,
   "id": "bc670641-f3f7-4e33-9565-64b7ab24082c",
   "metadata": {},
   "outputs": [],
   "source": [
    "pred_final_test = []\n",
    "\n",
    "for i in range(len(X_test_1)):\n",
    "    pred_final_test.append(np.hstack((pred1_test[i], pred2_test[i])))"
   ]
  },
  {
   "cell_type": "markdown",
   "id": "e5d11657-25b6-44a8-92e3-3d98854aeba0",
   "metadata": {},
   "source": [
    "- Treino do novo modelo no servidor central"
   ]
  },
  {
   "cell_type": "code",
   "execution_count": 65,
   "id": "38897ce5-784a-4767-b140-4d22c920e468",
   "metadata": {},
   "outputs": [],
   "source": [
    "model_final = MLPClassifier(\n",
    "    hidden_layer_sizes=(500, 100, 30), learning_rate_init=0.001, verbose=True\n",
    ")"
   ]
  },
  {
   "cell_type": "code",
   "execution_count": 66,
   "id": "14611a09-17d3-4e2f-b382-ed92dfc40979",
   "metadata": {},
   "outputs": [
    {
     "name": "stdout",
     "output_type": "stream",
     "text": [
      "Iteration 1, loss = 0.08648239\n",
      "Iteration 2, loss = 0.07580718\n",
      "Iteration 3, loss = 0.07554184\n",
      "Iteration 4, loss = 0.07542203\n",
      "Iteration 5, loss = 0.07513672\n",
      "Iteration 6, loss = 0.07504209\n",
      "Iteration 7, loss = 0.07502907\n",
      "Iteration 8, loss = 0.07496239\n",
      "Iteration 9, loss = 0.07494645\n",
      "Iteration 10, loss = 0.07490171\n",
      "Iteration 11, loss = 0.07486076\n",
      "Iteration 12, loss = 0.07478729\n",
      "Iteration 13, loss = 0.07473195\n",
      "Iteration 14, loss = 0.07473886\n",
      "Iteration 15, loss = 0.07475297\n",
      "Iteration 16, loss = 0.07469417\n",
      "Training loss did not improve more than tol=0.000100 for 10 consecutive epochs. Stopping.\n"
     ]
    },
    {
     "data": {
      "text/plain": [
       "MLPClassifier(hidden_layer_sizes=(500, 100, 30), verbose=True)"
      ]
     },
     "execution_count": 66,
     "metadata": {},
     "output_type": "execute_result"
    }
   ],
   "source": [
    "model_final.fit(pred_final, y_train.reset_index()['isFraud'])"
   ]
  },
  {
   "cell_type": "markdown",
   "id": "a3cf8754-3516-4591-a175-bdb39c7b54cd",
   "metadata": {},
   "source": [
    "- Verificar os resultados"
   ]
  },
  {
   "cell_type": "code",
   "execution_count": 67,
   "id": "2d81cfe9-4187-44e5-a088-6a41a6854ad6",
   "metadata": {},
   "outputs": [
    {
     "name": "stdout",
     "output_type": "stream",
     "text": [
      "              precision    recall  f1-score   support\n",
      "\n",
      "           0       0.98      0.99      0.99    118992\n",
      "           1       0.78      0.50      0.61      4364\n",
      "\n",
      "    accuracy                           0.98    123356\n",
      "   macro avg       0.88      0.75      0.80    123356\n",
      "weighted avg       0.97      0.98      0.98    123356\n",
      "\n"
     ]
    }
   ],
   "source": [
    "print(classification_report(y_test.reset_index()['isFraud'], model_final.predict(pred_final_test)))"
   ]
  },
  {
   "cell_type": "markdown",
   "id": "48dbd546-345f-405e-be1d-1af8ff1c04be",
   "metadata": {},
   "source": [
    "- Verificar resultados dos modelos locais"
   ]
  },
  {
   "cell_type": "code",
   "execution_count": 68,
   "id": "f4e2c964-12d0-4145-a7f5-7782fed94bb4",
   "metadata": {},
   "outputs": [
    {
     "name": "stdout",
     "output_type": "stream",
     "text": [
      "              precision    recall  f1-score   support\n",
      "\n",
      "           0       0.98      1.00      0.99    118992\n",
      "           1       0.88      0.37      0.52      4364\n",
      "\n",
      "    accuracy                           0.98    123356\n",
      "   macro avg       0.93      0.68      0.75    123356\n",
      "weighted avg       0.97      0.98      0.97    123356\n",
      "\n"
     ]
    }
   ],
   "source": [
    "print(classification_report(y_test, model_bank1_1.predict(X_test_1)))"
   ]
  },
  {
   "cell_type": "code",
   "execution_count": 69,
   "id": "efb6789a-c607-4a00-9dec-68d5d17efd58",
   "metadata": {},
   "outputs": [
    {
     "name": "stdout",
     "output_type": "stream",
     "text": [
      "              precision    recall  f1-score   support\n",
      "\n",
      "           0       0.98      1.00      0.99    118992\n",
      "           1       0.88      0.40      0.55      4364\n",
      "\n",
      "    accuracy                           0.98    123356\n",
      "   macro avg       0.93      0.70      0.77    123356\n",
      "weighted avg       0.98      0.98      0.97    123356\n",
      "\n"
     ]
    }
   ],
   "source": [
    "print(classification_report(y_test, model_bank2_1.predict(X_test_2)))"
   ]
  },
  {
   "cell_type": "markdown",
   "id": "daa96af3-82bf-43a7-81a4-c3832956c19a",
   "metadata": {},
   "source": [
    "<p style=\"color:red\">Aprendizado Federado Horizontal - linhas separadas sem criterio</p>\n",
    "\n",
    "Treinar o modelo separadamente e enviar os resultados para um parte central, que ira consolidar os resultados e treinar um novo modelo com essas informacoes"
   ]
  },
  {
   "cell_type": "markdown",
   "id": "e69984f6-51e3-4c81-8f62-fb61a5f71e96",
   "metadata": {},
   "source": [
    "- Separar as bases"
   ]
  },
  {
   "cell_type": "code",
   "execution_count": 70,
   "id": "b573d4ae-feb8-41dd-9bf6-75255e7c5a54",
   "metadata": {},
   "outputs": [],
   "source": [
    "bank1_clients_index_train = X_train.sample(frac=0.7, random_state=42).index\n",
    "bank2_clients_index_train = X_train.index.difference(bank1_clients_index_train)\n",
    "\n",
    "y_bank1_train = y_train.loc[bank1_clients_index_train]\n",
    "y_bank2_train = y_train.loc[bank2_clients_index_train]\n",
    "\n",
    "bank1_clients_index_test = X_test.sample(frac=0.7, random_state=42).index\n",
    "bank2_clients_index_test = X_test.index.difference(bank1_clients_index_test)\n",
    "y_bank1_test = y_test.loc[bank1_clients_index_test]\n",
    "y_bank2_test = y_test.loc[bank2_clients_index_test]"
   ]
  },
  {
   "cell_type": "code",
   "execution_count": 71,
   "id": "607c3310-d70a-4c4a-88c1-4df2be269002",
   "metadata": {},
   "outputs": [],
   "source": [
    "X_train_1 = X_train.loc[bank1_clients_index_train]\n",
    "X_train_2 = X_train.loc[bank2_clients_index_train]\n",
    "\n",
    "X_test_1 = X_test.loc[bank1_clients_index_test]\n",
    "X_test_2 = X_test.loc[bank2_clients_index_test]"
   ]
  },
  {
   "cell_type": "markdown",
   "id": "33b4f220-8b53-4e0b-a47a-93a76cf619a0",
   "metadata": {},
   "source": [
    "- Treinar modelo localmente"
   ]
  },
  {
   "cell_type": "code",
   "execution_count": 72,
   "id": "658a2333-831d-4372-877e-00d87b9fb036",
   "metadata": {},
   "outputs": [],
   "source": [
    "model_bank1 = LGBMClassifier(random_state=42)\n",
    "model_bank2 = LGBMClassifier(random_state=42)"
   ]
  },
  {
   "cell_type": "code",
   "execution_count": 73,
   "id": "24451039-815a-48e5-b1cb-dca7ca27cf8f",
   "metadata": {},
   "outputs": [
    {
     "data": {
      "text/plain": [
       "LGBMClassifier(random_state=42)"
      ]
     },
     "execution_count": 73,
     "metadata": {},
     "output_type": "execute_result"
    }
   ],
   "source": [
    "model_bank1.fit(X_train_1, y_bank1_train)\n",
    "model_bank2.fit(X_train_2, y_bank2_train)"
   ]
  },
  {
   "cell_type": "markdown",
   "id": "a9e21c0e-5c7d-47b5-b39c-f6b32bef38cf",
   "metadata": {},
   "source": [
    "- Preparar as bases para envio "
   ]
  },
  {
   "cell_type": "code",
   "execution_count": 74,
   "id": "2fb4720c-5d83-4563-9878-a9bdaa7638e1",
   "metadata": {},
   "outputs": [],
   "source": [
    "pred1 = model_bank1.predict_proba(X_train_1)\n",
    "pred2 = model_bank2.predict_proba(X_train_2)\n",
    "\n",
    "pred1_test = model_bank1.predict_proba(X_test_1)\n",
    "pred2_test = model_bank2.predict_proba(X_test_2)"
   ]
  },
  {
   "cell_type": "code",
   "execution_count": 75,
   "id": "f74d649e-9864-4f66-b8f1-39abb4a19efc",
   "metadata": {},
   "outputs": [],
   "source": [
    "pred_final = np.append(pred1, pred2, axis=0)\n",
    "y_train_f = np.append(y_bank1_train, y_bank2_train, axis=0)"
   ]
  },
  {
   "cell_type": "code",
   "execution_count": 76,
   "id": "c4fa80bc-a85f-4c64-95b9-d422c1fcbeae",
   "metadata": {},
   "outputs": [],
   "source": [
    "pred_final_test = np.append(pred1_test, pred2_test, axis=0)\n",
    "y_test_f = np.append(y_bank1_test, y_bank2_test, axis=0)"
   ]
  },
  {
   "cell_type": "markdown",
   "id": "5799f772-bac9-4b14-ad88-1cf5a7aa5efd",
   "metadata": {},
   "source": [
    "- Treino do novo modelo no servidor central"
   ]
  },
  {
   "cell_type": "code",
   "execution_count": 77,
   "id": "e27b0eb7-fd3d-40cf-918a-57a4e6e0022c",
   "metadata": {},
   "outputs": [],
   "source": [
    "model_final = MLPClassifier(\n",
    "    hidden_layer_sizes=(500, 100, 30), learning_rate_init=0.001, verbose=True\n",
    ")"
   ]
  },
  {
   "cell_type": "code",
   "execution_count": 78,
   "id": "5f587c07-e1b5-4897-a4d5-0c0f9e87acc3",
   "metadata": {},
   "outputs": [
    {
     "name": "stdout",
     "output_type": "stream",
     "text": [
      "Iteration 1, loss = 0.07460784\n",
      "Iteration 2, loss = 0.06835254\n",
      "Iteration 3, loss = 0.06804165\n",
      "Iteration 4, loss = 0.06798858\n",
      "Iteration 5, loss = 0.06777473\n",
      "Iteration 6, loss = 0.06774203\n",
      "Iteration 7, loss = 0.06757376\n",
      "Iteration 8, loss = 0.06763026\n",
      "Iteration 9, loss = 0.06755479\n",
      "Iteration 10, loss = 0.06751219\n",
      "Iteration 11, loss = 0.06740739\n",
      "Iteration 12, loss = 0.06743029\n",
      "Iteration 13, loss = 0.06738449\n",
      "Iteration 14, loss = 0.06733324\n",
      "Iteration 15, loss = 0.06734228\n",
      "Iteration 16, loss = 0.06728537\n",
      "Iteration 17, loss = 0.06724223\n",
      "Iteration 18, loss = 0.06726593\n",
      "Iteration 19, loss = 0.06719835\n",
      "Iteration 20, loss = 0.06726547\n",
      "Iteration 21, loss = 0.06722433\n",
      "Iteration 22, loss = 0.06724271\n",
      "Training loss did not improve more than tol=0.000100 for 10 consecutive epochs. Stopping.\n"
     ]
    },
    {
     "data": {
      "text/plain": [
       "MLPClassifier(hidden_layer_sizes=(500, 100, 30), verbose=True)"
      ]
     },
     "execution_count": 78,
     "metadata": {},
     "output_type": "execute_result"
    }
   ],
   "source": [
    "model_final.fit(pred_final, y_train_f)"
   ]
  },
  {
   "cell_type": "markdown",
   "id": "dbf844e5-dbba-421b-81e6-c5478cb09e84",
   "metadata": {},
   "source": [
    "- Verificar os resultados"
   ]
  },
  {
   "cell_type": "code",
   "execution_count": 79,
   "id": "3f3bc3df-a554-4a03-9e47-2676da933e51",
   "metadata": {},
   "outputs": [
    {
     "name": "stdout",
     "output_type": "stream",
     "text": [
      "              precision    recall  f1-score   support\n",
      "\n",
      "           0       0.98      0.99      0.99    118992\n",
      "           1       0.77      0.50      0.61      4364\n",
      "\n",
      "    accuracy                           0.98    123356\n",
      "   macro avg       0.87      0.75      0.80    123356\n",
      "weighted avg       0.97      0.98      0.97    123356\n",
      "\n"
     ]
    }
   ],
   "source": [
    "print(classification_report(y_test_f, model_final.predict(pred_final_test)))"
   ]
  },
  {
   "cell_type": "markdown",
   "id": "c4a24e5c-fdcc-46aa-bcd9-35323a906dda",
   "metadata": {},
   "source": [
    "- Verificar resultados dos modelos locais"
   ]
  },
  {
   "cell_type": "code",
   "execution_count": 80,
   "id": "8c22f620-8473-46a2-af04-fcd778d6b663",
   "metadata": {},
   "outputs": [
    {
     "name": "stdout",
     "output_type": "stream",
     "text": [
      "              precision    recall  f1-score   support\n",
      "\n",
      "           0       0.98      1.00      0.99     83256\n",
      "           1       0.87      0.42      0.57      3093\n",
      "\n",
      "    accuracy                           0.98     86349\n",
      "   macro avg       0.92      0.71      0.78     86349\n",
      "weighted avg       0.98      0.98      0.97     86349\n",
      "\n"
     ]
    }
   ],
   "source": [
    "print(classification_report(y_bank1_test, model_bank1.predict(X_test_1)))"
   ]
  },
  {
   "cell_type": "code",
   "execution_count": 81,
   "id": "ea959735-7b69-4e22-8aeb-0c1b888add2e",
   "metadata": {},
   "outputs": [
    {
     "name": "stdout",
     "output_type": "stream",
     "text": [
      "              precision    recall  f1-score   support\n",
      "\n",
      "           0       0.98      1.00      0.99     35736\n",
      "           1       0.88      0.39      0.54      1271\n",
      "\n",
      "    accuracy                           0.98     37007\n",
      "   macro avg       0.93      0.69      0.76     37007\n",
      "weighted avg       0.98      0.98      0.97     37007\n",
      "\n"
     ]
    }
   ],
   "source": [
    "print(classification_report(y_bank2_test, model_bank2.predict(X_test_2)))"
   ]
  },
  {
   "cell_type": "markdown",
   "id": "2b59c2e6-e1d7-4f4c-aa52-c378506309d4",
   "metadata": {},
   "source": [
    "<p style=\"color:red\">Aprendizado Federado Horizontal - linhas separadas por cluster</p>\n",
    "\n",
    "Treinar o modelo separadamente e enviar os resultados para um parte central, que ira consolidar os resultados e treinar um novo modelo com essas informacoes"
   ]
  },
  {
   "cell_type": "code",
   "execution_count": 82,
   "id": "c6a61141-36af-4e31-b760-9ac656c2e84e",
   "metadata": {},
   "outputs": [],
   "source": [
    "pca = PCA(n_components=50)"
   ]
  },
  {
   "cell_type": "code",
   "execution_count": 83,
   "id": "035cb458-3c52-48bc-86d8-050687ad8db6",
   "metadata": {},
   "outputs": [
    {
     "data": {
      "text/plain": [
       "PCA(n_components=50)"
      ]
     },
     "execution_count": 83,
     "metadata": {},
     "output_type": "execute_result"
    }
   ],
   "source": [
    "pca.fit(X_train)"
   ]
  },
  {
   "cell_type": "code",
   "execution_count": 84,
   "id": "fc8f3126-7ef9-4e70-a77d-fdb5319e433b",
   "metadata": {},
   "outputs": [],
   "source": [
    "X_train_aux = pca.transform(X_train)\n",
    "X_test_aux = pca.transform(X_test)"
   ]
  },
  {
   "cell_type": "code",
   "execution_count": 85,
   "id": "fe4b8609-47b1-4fcf-a952-2c730c0bfa03",
   "metadata": {},
   "outputs": [],
   "source": [
    "cluster = KMeans(n_clusters=3)"
   ]
  },
  {
   "cell_type": "code",
   "execution_count": 86,
   "id": "dec987c5-869a-4a68-9686-b8978ceffdc7",
   "metadata": {},
   "outputs": [],
   "source": [
    "X_train_aux = np.c_[X_train_aux, cluster.fit_predict(X_train_aux)]\n",
    "X_test_aux = np.c_[X_test_aux, cluster.predict(X_test_aux)]"
   ]
  },
  {
   "cell_type": "code",
   "execution_count": 87,
   "id": "58d33a2f-5203-443a-ad91-d69be93a3297",
   "metadata": {},
   "outputs": [],
   "source": [
    "df_train = pd.DataFrame(X_train_aux, index=X_train.index)\n",
    "df_test = pd.DataFrame(X_test_aux, index=X_test.index)"
   ]
  },
  {
   "cell_type": "code",
   "execution_count": 88,
   "id": "c115d6b0-68ff-46b5-8275-212efddd5895",
   "metadata": {},
   "outputs": [],
   "source": [
    "X_train_1 = df_train[df_train[50] == 0]\n",
    "X_train_2 = df_train[df_train[50] == 1]\n",
    "X_train_3 = df_train[df_train[50] == 2]\n",
    "\n",
    "X_test_1 = df_test[df_test[50] == 0]\n",
    "X_test_2 = df_test[df_test[50] == 1]\n",
    "X_test_3 = df_test[df_test[50] == 2]"
   ]
  },
  {
   "cell_type": "code",
   "execution_count": 89,
   "id": "6e1d29ba-579c-4274-b7d3-d0e57167d2a8",
   "metadata": {},
   "outputs": [],
   "source": [
    "y_bank1_train = y_train.loc[X_train_1.index]\n",
    "y_bank2_train = y_train.loc[X_train_2.index]\n",
    "y_bank3_train = y_train.loc[X_train_3.index]\n",
    "\n",
    "y_bank1_test = y_test.loc[X_test_1.index]\n",
    "y_bank2_test = y_test.loc[X_test_2.index]\n",
    "y_bank3_test = y_test.loc[X_test_3.index]"
   ]
  },
  {
   "cell_type": "markdown",
   "id": "8d3d3563-a7f5-4285-bb8d-c5142267d15d",
   "metadata": {},
   "source": [
    "- Treinar modelo localmente"
   ]
  },
  {
   "cell_type": "code",
   "execution_count": 90,
   "id": "b20b7bd7-d852-465d-a344-f3252d3aa330",
   "metadata": {},
   "outputs": [],
   "source": [
    "model_bank1 = LGBMClassifier(random_state=42)\n",
    "model_bank2 = LGBMClassifier(random_state=42)\n",
    "model_bank3 = LGBMClassifier(random_state=42)"
   ]
  },
  {
   "cell_type": "code",
   "execution_count": 91,
   "id": "c4b3389b-ad7b-4385-9668-cf2371b756d4",
   "metadata": {},
   "outputs": [
    {
     "data": {
      "text/plain": [
       "LGBMClassifier(random_state=42)"
      ]
     },
     "execution_count": 91,
     "metadata": {},
     "output_type": "execute_result"
    }
   ],
   "source": [
    "model_bank1.fit(X_train_1, y_bank1_train)\n",
    "model_bank2.fit(X_train_2, y_bank2_train)\n",
    "model_bank3.fit(X_train_3, y_bank3_train)"
   ]
  },
  {
   "cell_type": "markdown",
   "id": "e642031b-9759-4139-8279-aaf311006c4c",
   "metadata": {},
   "source": [
    "- Preparar as bases para envio "
   ]
  },
  {
   "cell_type": "code",
   "execution_count": 92,
   "id": "9ee64763-7362-4a7d-b774-a1a1a454992c",
   "metadata": {},
   "outputs": [],
   "source": [
    "pred1 = model_bank1.predict_proba(X_train_1)\n",
    "pred2 = model_bank2.predict_proba(X_train_2)\n",
    "pred3 = model_bank2.predict_proba(X_train_3)\n",
    "\n",
    "pred1_test = model_bank1.predict_proba(X_test_1)\n",
    "pred2_test = model_bank2.predict_proba(X_test_2)\n",
    "pred3_test = model_bank2.predict_proba(X_test_3)"
   ]
  },
  {
   "cell_type": "code",
   "execution_count": 93,
   "id": "c3f3f2b6-7e77-46a2-b8c4-72d35b95dd7c",
   "metadata": {},
   "outputs": [],
   "source": [
    "pred_final = np.append(pred1, pred2, axis=0)\n",
    "pred_final = np.append(pred_final, pred3, axis=0)\n",
    "\n",
    "y_train_f = np.append(y_bank1_train, y_bank2_train, axis=0)\n",
    "y_train_f = np.append(y_train_f, y_bank3_train, axis=0)"
   ]
  },
  {
   "cell_type": "code",
   "execution_count": 94,
   "id": "4ee89c58-f20c-4e61-8b98-915973094795",
   "metadata": {},
   "outputs": [],
   "source": [
    "pred_final_test = np.append(pred1_test, pred2_test, axis=0)\n",
    "pred_final_test = np.append(pred_final_test, pred3_test, axis=0)\n",
    "\n",
    "y_test_f = np.append(y_bank1_test, y_bank2_test, axis=0)\n",
    "y_test_f = np.append(y_test_f, y_bank3_test, axis=0)"
   ]
  },
  {
   "cell_type": "markdown",
   "id": "c2b6684e-2217-4c77-b9c7-14162406f164",
   "metadata": {},
   "source": [
    "- Treino do novo modelo no servidor central"
   ]
  },
  {
   "cell_type": "code",
   "execution_count": 95,
   "id": "3a574697-4e1b-490e-8888-9b261d5e4aaf",
   "metadata": {},
   "outputs": [],
   "source": [
    "model_final = MLPClassifier(\n",
    "    hidden_layer_sizes=(500, 100, 30), learning_rate_init=0.001, verbose=True\n",
    ")"
   ]
  },
  {
   "cell_type": "code",
   "execution_count": 96,
   "id": "5fe0f2c3-5b63-4494-83bf-2ce048785c9c",
   "metadata": {},
   "outputs": [
    {
     "name": "stdout",
     "output_type": "stream",
     "text": [
      "Iteration 1, loss = 0.09583766\n",
      "Iteration 2, loss = 0.09079454\n",
      "Iteration 3, loss = 0.09063121\n",
      "Iteration 4, loss = 0.09038221\n",
      "Iteration 5, loss = 0.09025831\n",
      "Iteration 6, loss = 0.09005750\n",
      "Iteration 7, loss = 0.08994660\n",
      "Iteration 8, loss = 0.08986661\n",
      "Iteration 9, loss = 0.08982562\n",
      "Iteration 10, loss = 0.08975864\n",
      "Iteration 11, loss = 0.08971135\n",
      "Iteration 12, loss = 0.08979448\n",
      "Iteration 13, loss = 0.08959808\n",
      "Iteration 14, loss = 0.08956733\n",
      "Iteration 15, loss = 0.08967196\n",
      "Iteration 16, loss = 0.08957351\n",
      "Iteration 17, loss = 0.08954935\n",
      "Iteration 18, loss = 0.08955734\n",
      "Iteration 19, loss = 0.08956709\n",
      "Iteration 20, loss = 0.08955112\n",
      "Iteration 21, loss = 0.08943137\n",
      "Iteration 22, loss = 0.08948273\n",
      "Iteration 23, loss = 0.08946377\n",
      "Iteration 24, loss = 0.08945785\n",
      "Iteration 25, loss = 0.08942979\n",
      "Iteration 26, loss = 0.08942277\n",
      "Iteration 27, loss = 0.08944788\n",
      "Iteration 28, loss = 0.08943804\n",
      "Iteration 29, loss = 0.08944206\n",
      "Iteration 30, loss = 0.08947941\n",
      "Iteration 31, loss = 0.08935305\n",
      "Iteration 32, loss = 0.08944146\n",
      "Training loss did not improve more than tol=0.000100 for 10 consecutive epochs. Stopping.\n"
     ]
    },
    {
     "data": {
      "text/plain": [
       "MLPClassifier(hidden_layer_sizes=(500, 100, 30), verbose=True)"
      ]
     },
     "execution_count": 96,
     "metadata": {},
     "output_type": "execute_result"
    }
   ],
   "source": [
    "model_final.fit(pred_final, y_train_f)"
   ]
  },
  {
   "cell_type": "markdown",
   "id": "b26b62a6-5e27-490f-b63d-a70e1c2f3fa1",
   "metadata": {},
   "source": [
    "- Verificar os resultados"
   ]
  },
  {
   "cell_type": "code",
   "execution_count": 97,
   "id": "3de0a736-4c3e-4d17-8f86-5d18b4754dc3",
   "metadata": {},
   "outputs": [
    {
     "name": "stdout",
     "output_type": "stream",
     "text": [
      "              precision    recall  f1-score   support\n",
      "\n",
      "           0       0.98      0.99      0.98    118992\n",
      "           1       0.61      0.31      0.41      4364\n",
      "\n",
      "    accuracy                           0.97    123356\n",
      "   macro avg       0.79      0.65      0.70    123356\n",
      "weighted avg       0.96      0.97      0.96    123356\n",
      "\n"
     ]
    }
   ],
   "source": [
    "print(classification_report(y_test_f, model_final.predict(pred_final_test)))"
   ]
  },
  {
   "cell_type": "markdown",
   "id": "31b1428e-d952-440d-a645-f129880b49ee",
   "metadata": {},
   "source": [
    "- Verificar resultados dos modelos locais"
   ]
  },
  {
   "cell_type": "code",
   "execution_count": 98,
   "id": "8e8ab119-6578-42a3-85d2-e473b561822f",
   "metadata": {},
   "outputs": [
    {
     "name": "stdout",
     "output_type": "stream",
     "text": [
      "              precision    recall  f1-score   support\n",
      "\n",
      "           0       0.95      0.99      0.97     11771\n",
      "           1       0.85      0.58      0.69      1566\n",
      "\n",
      "    accuracy                           0.94     13337\n",
      "   macro avg       0.90      0.78      0.83     13337\n",
      "weighted avg       0.93      0.94      0.93     13337\n",
      "\n"
     ]
    }
   ],
   "source": [
    "print(classification_report(y_bank1_test, model_bank1.predict(X_test_1)))"
   ]
  },
  {
   "cell_type": "code",
   "execution_count": 99,
   "id": "7e73e91d-3c61-4065-a15f-d502b8233ded",
   "metadata": {},
   "outputs": [
    {
     "name": "stdout",
     "output_type": "stream",
     "text": [
      "              precision    recall  f1-score   support\n",
      "\n",
      "           0       0.98      1.00      0.99     88590\n",
      "           1       0.80      0.09      0.16      1908\n",
      "\n",
      "    accuracy                           0.98     90498\n",
      "   macro avg       0.89      0.55      0.58     90498\n",
      "weighted avg       0.98      0.98      0.97     90498\n",
      "\n"
     ]
    }
   ],
   "source": [
    "print(classification_report(y_bank2_test, model_bank2.predict(X_test_2)))"
   ]
  },
  {
   "cell_type": "code",
   "execution_count": 100,
   "id": "9a6ee08a-fae5-4103-8898-d5a0104d4418",
   "metadata": {},
   "outputs": [
    {
     "name": "stdout",
     "output_type": "stream",
     "text": [
      "              precision    recall  f1-score   support\n",
      "\n",
      "           0       0.97      1.00      0.98     18631\n",
      "           1       0.85      0.37      0.52       890\n",
      "\n",
      "    accuracy                           0.97     19521\n",
      "   macro avg       0.91      0.68      0.75     19521\n",
      "weighted avg       0.97      0.97      0.96     19521\n",
      "\n"
     ]
    }
   ],
   "source": [
    "print(classification_report(y_bank3_test, model_bank3.predict(X_test_3)))"
   ]
  }
 ],
 "metadata": {
  "kernelspec": {
   "display_name": "Kedro (fed_learn)",
   "language": "python",
   "name": "kedro_fed_learn"
  },
  "language_info": {
   "codemirror_mode": {
    "name": "ipython",
    "version": 3
   },
   "file_extension": ".py",
   "mimetype": "text/x-python",
   "name": "python",
   "nbconvert_exporter": "python",
   "pygments_lexer": "ipython3",
   "version": "3.8.10"
  }
 },
 "nbformat": 4,
 "nbformat_minor": 5
}
