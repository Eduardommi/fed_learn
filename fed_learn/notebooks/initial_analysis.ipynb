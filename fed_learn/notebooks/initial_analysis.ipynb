{
 "cells": [
  {
   "cell_type": "code",
   "execution_count": 1,
   "id": "2692d9e5-657e-41a3-a24e-43e8528a308c",
   "metadata": {},
   "outputs": [],
   "source": [
    "import sys\n",
    "from pathlib import Path\n",
    "\n",
    "import numpy as np\n",
    "import pandas as pd\n",
    "from sklearn.linear_model import LogisticRegression\n",
    "from sklearn.metrics import accuracy_score\n",
    "from sklearn.neural_network import MLPClassifier"
   ]
  },
  {
   "cell_type": "code",
   "execution_count": 3,
   "id": "418782d6-0957-417f-bc0d-6238609b07b6",
   "metadata": {},
   "outputs": [],
   "source": [
    "from src.feature_engineering import get_datasets, partition_data, scale"
   ]
  },
  {
   "cell_type": "code",
   "execution_count": 5,
   "id": "49d165ee-04c0-4856-9743-8c98b5347f0c",
   "metadata": {},
   "outputs": [
    {
     "name": "stderr",
     "output_type": "stream",
     "text": [
      "/home/eduardo/Documents/simple-vfl/src/feature_engineering.py:65: FutureWarning: The frame.append method is deprecated and will be removed from pandas in a future version. Use pandas.concat instead.\n",
      "  df_combined = df.append(df_test)\n"
     ]
    }
   ],
   "source": [
    "x_train, y_train, x_test = get_datasets(\n",
    "    pd.read_csv(\"data/train.csv\"), pd.read_csv(\"data/test.csv\")\n",
    "    )"
   ]
  },
  {
   "cell_type": "code",
   "execution_count": 11,
   "id": "820580c9-e210-4d89-9f6a-398b80e22a1c",
   "metadata": {},
   "outputs": [],
   "source": [
    "n_data = x_train.shape[0]"
   ]
  },
  {
   "cell_type": "code",
   "execution_count": 14,
   "id": "927d406d-8249-40cd-8725-d49304908a35",
   "metadata": {},
   "outputs": [],
   "source": [
    "split_train = partition_data(x_train)\n",
    "split_test = partition_data(x_test)"
   ]
  },
  {
   "cell_type": "code",
   "execution_count": 17,
   "id": "dcbe078b-869f-4f04-885b-d5dd6f4179e5",
   "metadata": {},
   "outputs": [
    {
     "data": {
      "text/plain": [
       "(     Parch  Cabin_A  Cabin_B  Cabin_C  Cabin_D  Cabin_E  Cabin_F  Cabin_G  \\\n",
       " 0        0        0        0        0        0        0        0        0   \n",
       " 1        0        0        0        1        0        0        0        0   \n",
       " 2        0        0        0        0        0        0        0        0   \n",
       " 3        0        0        0        1        0        0        0        0   \n",
       " 4        0        0        0        0        0        0        0        0   \n",
       " ..     ...      ...      ...      ...      ...      ...      ...      ...   \n",
       " 886      0        0        0        0        0        0        0        0   \n",
       " 887      0        0        1        0        0        0        0        0   \n",
       " 888      2        0        0        0        0        0        0        0   \n",
       " 889      0        0        0        1        0        0        0        0   \n",
       " 890      0        0        0        0        0        0        0        0   \n",
       " \n",
       "      Cabin_T  Cabin_U  Pclass_1  Pclass_2  Pclass_3  \n",
       " 0          0        1         0         0         1  \n",
       " 1          0        0         1         0         0  \n",
       " 2          0        1         0         0         1  \n",
       " 3          0        0         1         0         0  \n",
       " 4          0        1         0         0         1  \n",
       " ..       ...      ...       ...       ...       ...  \n",
       " 886        0        1         0         1         0  \n",
       " 887        0        0         1         0         0  \n",
       " 888        0        1         0         0         1  \n",
       " 889        0        0         1         0         0  \n",
       " 890        0        1         0         0         1  \n",
       " \n",
       " [889 rows x 13 columns],\n",
       "      Sex_female  Sex_male  Title_Master  Title_Miss  Title_Mr  Title_Mrs  \\\n",
       " 0             0         1             0           0         1          0   \n",
       " 1             1         0             0           0         0          1   \n",
       " 2             1         0             0           1         0          0   \n",
       " 3             1         0             0           0         0          1   \n",
       " 4             0         1             0           0         1          0   \n",
       " ..          ...       ...           ...         ...       ...        ...   \n",
       " 886           0         1             0           0         0          0   \n",
       " 887           1         0             0           1         0          0   \n",
       " 888           1         0             0           1         0          0   \n",
       " 889           0         1             0           0         1          0   \n",
       " 890           0         1             0           0         1          0   \n",
       " \n",
       "      Title_Rare  \n",
       " 0             0  \n",
       " 1             0  \n",
       " 2             0  \n",
       " 3             0  \n",
       " 4             0  \n",
       " ..          ...  \n",
       " 886           1  \n",
       " 887           0  \n",
       " 888           0  \n",
       " 889           0  \n",
       " 890           0  \n",
       " \n",
       " [889 rows x 7 columns],\n",
       "         Fare  Age_Child  Age_Elderly  Embarked_S  Embarked_C  Age_Unknown  \\\n",
       " 0     7.2500          0            0           1           0            0   \n",
       " 1    71.2833          0            0           0           1            0   \n",
       " 2     7.9250          0            0           1           0            0   \n",
       " 3    53.1000          0            0           1           0            0   \n",
       " 4     8.0500          0            0           1           0            0   \n",
       " ..       ...        ...          ...         ...         ...          ...   \n",
       " 886  13.0000          0            0           1           0            0   \n",
       " 887  30.0000          0            0           1           0            0   \n",
       " 888  23.4500          0            0           1           0            1   \n",
       " 889  30.0000          0            0           0           1            0   \n",
       " 890   7.7500          0            0           0           0            0   \n",
       " \n",
       "      Age_Adult  SibSp  Embarked_Q  \n",
       " 0            1      1           0  \n",
       " 1            1      1           0  \n",
       " 2            1      0           0  \n",
       " 3            1      1           0  \n",
       " 4            1      0           0  \n",
       " ..         ...    ...         ...  \n",
       " 886          1      0           0  \n",
       " 887          1      0           0  \n",
       " 888          0      1           0  \n",
       " 889          1      0           0  \n",
       " 890          1      0           1  \n",
       " \n",
       " [889 rows x 9 columns])"
      ]
     },
     "execution_count": 17,
     "metadata": {},
     "output_type": "execute_result"
    }
   ],
   "source": [
    "split_train"
   ]
  },
  {
   "cell_type": "code",
   "execution_count": 18,
   "id": "2f80147c-f91a-4683-907e-09a10b671572",
   "metadata": {},
   "outputs": [],
   "source": [
    "outputs = dict()\n",
    "accuracies = dict()\n",
    "models = dict()"
   ]
  },
  {
   "cell_type": "code",
   "execution_count": 20,
   "id": "f2c1c896-7744-40a9-a6ac-0ad007fe052f",
   "metadata": {},
   "outputs": [
    {
     "data": {
      "text/plain": [
       "<zip at 0x7fdb5f018380>"
      ]
     },
     "execution_count": 21,
     "metadata": {},
     "output_type": "execute_result"
    }
   ],
   "source": [
    "enumerate(zip(split_train, split_test))"
   ]
  },
  {
   "cell_type": "code",
   "execution_count": 19,
   "id": "e797f619-c5fa-44a6-ba60-ffb50d95c6f9",
   "metadata": {},
   "outputs": [],
   "source": [
    "for i, (_train, _test) in enumerate(zip(split_train, split_test)):\n",
    "    _train, _test = scale(_train, _test)\n",
    "    _model = LogisticRegression()\n",
    "    _model.fit(_train, y_train)\n",
    "\n",
    "    outputs[i] = _model.predict_proba(_train)\n",
    "    accuracies[i] = 100 * accuracy_score(_model.predict(_train), y_train)\n",
    "    models[i] = _model"
   ]
  },
  {
   "cell_type": "code",
   "execution_count": 29,
   "id": "9387920b-7f45-4d12-8f1a-668c0453f95a",
   "metadata": {},
   "outputs": [],
   "source": [
    "# ----- Combined data stage -----\n",
    "train_combined = np.empty((n_data, 0))"
   ]
  },
  {
   "cell_type": "code",
   "execution_count": 43,
   "id": "fd0e2b1f-1f64-47c7-b74c-6096a14cf1e1",
   "metadata": {},
   "outputs": [
    {
     "data": {
      "text/plain": [
       "array([[0.7803014 , 0.2196986 , 0.84327655, 0.15672345, 0.76369262,\n",
       "        0.23630738],\n",
       "       [0.43107713, 0.56892287, 0.20803364, 0.79196636, 0.37733764,\n",
       "        0.62266236],\n",
       "       [0.7803014 , 0.2196986 , 0.2985148 , 0.7014852 , 0.690476  ,\n",
       "        0.309524  ],\n",
       "       ...,\n",
       "       [0.6960638 , 0.3039362 , 0.2985148 , 0.7014852 , 0.8020777 ,\n",
       "        0.1979223 ],\n",
       "       [0.43107713, 0.56892287, 0.84327655, 0.15672345, 0.45750704,\n",
       "        0.54249296],\n",
       "       [0.7803014 , 0.2196986 , 0.84327655, 0.15672345, 0.53241209,\n",
       "        0.46758791]])"
      ]
     },
     "execution_count": 43,
     "metadata": {},
     "output_type": "execute_result"
    }
   ],
   "source": [
    "train_combined"
   ]
  },
  {
   "cell_type": "code",
   "execution_count": 32,
   "id": "c809cd2f-7da7-4990-ac95-d152b686314a",
   "metadata": {},
   "outputs": [],
   "source": [
    "for _train in outputs.values():\n",
    "    train_combined = np.hstack((train_combined, _train))"
   ]
  },
  {
   "cell_type": "code",
   "execution_count": 50,
   "id": "71df31e1-606c-443e-abaa-57439db8a1e6",
   "metadata": {},
   "outputs": [],
   "source": [
    "comp_server = MLPClassifier(\n",
    "    hidden_layer_sizes=(500, 100, 30), learning_rate_init=0.001, verbose=True\n",
    ")"
   ]
  },
  {
   "cell_type": "code",
   "execution_count": 51,
   "id": "9caf9dcd-6c2b-4d29-ae1c-0601b74b1daa",
   "metadata": {},
   "outputs": [
    {
     "name": "stdout",
     "output_type": "stream",
     "text": [
      "Iteration 1, loss = 0.64690322\n",
      "Iteration 2, loss = 0.59384377\n",
      "Iteration 3, loss = 0.54313898\n",
      "Iteration 4, loss = 0.49667658\n",
      "Iteration 5, loss = 0.46146374\n",
      "Iteration 6, loss = 0.44178425\n",
      "Iteration 7, loss = 0.43945867\n",
      "Iteration 8, loss = 0.43755801\n",
      "Iteration 9, loss = 0.43527510\n",
      "Iteration 10, loss = 0.43472556\n",
      "Iteration 11, loss = 0.43464634\n",
      "Iteration 12, loss = 0.43500888\n",
      "Iteration 13, loss = 0.43765605\n",
      "Iteration 14, loss = 0.43193385\n",
      "Iteration 15, loss = 0.43130967\n",
      "Iteration 16, loss = 0.43130539\n",
      "Iteration 17, loss = 0.42976444\n",
      "Iteration 18, loss = 0.42969765\n",
      "Iteration 19, loss = 0.42866931\n",
      "Iteration 20, loss = 0.43013488\n",
      "Iteration 21, loss = 0.42890203\n",
      "Iteration 22, loss = 0.42803657\n",
      "Iteration 23, loss = 0.42943177\n",
      "Iteration 24, loss = 0.42830433\n",
      "Iteration 25, loss = 0.42718468\n",
      "Iteration 26, loss = 0.42662042\n",
      "Iteration 27, loss = 0.42732365\n",
      "Iteration 28, loss = 0.42584091\n",
      "Iteration 29, loss = 0.42745372\n",
      "Iteration 30, loss = 0.42607035\n",
      "Iteration 31, loss = 0.42508881\n",
      "Iteration 32, loss = 0.42726109\n",
      "Iteration 33, loss = 0.42641049\n",
      "Iteration 34, loss = 0.42717017\n",
      "Iteration 35, loss = 0.42424113\n",
      "Iteration 36, loss = 0.42681942\n",
      "Iteration 37, loss = 0.42722475\n",
      "Iteration 38, loss = 0.42430847\n",
      "Iteration 39, loss = 0.42425916\n",
      "Iteration 40, loss = 0.42444983\n",
      "Iteration 41, loss = 0.42425536\n",
      "Iteration 42, loss = 0.42493022\n",
      "Iteration 43, loss = 0.42280805\n",
      "Iteration 44, loss = 0.42371532\n",
      "Iteration 45, loss = 0.42588933\n",
      "Iteration 46, loss = 0.42517650\n",
      "Iteration 47, loss = 0.42867296\n",
      "Iteration 48, loss = 0.42294315\n",
      "Iteration 49, loss = 0.42492609\n",
      "Iteration 50, loss = 0.42649750\n",
      "Iteration 51, loss = 0.42303236\n",
      "Iteration 52, loss = 0.42259110\n",
      "Iteration 53, loss = 0.42472098\n",
      "Iteration 54, loss = 0.42276044\n",
      "Iteration 55, loss = 0.42257872\n",
      "Iteration 56, loss = 0.42229641\n",
      "Iteration 57, loss = 0.42284881\n",
      "Iteration 58, loss = 0.42139858\n",
      "Iteration 59, loss = 0.42117663\n",
      "Iteration 60, loss = 0.42096101\n",
      "Iteration 61, loss = 0.42203640\n",
      "Iteration 62, loss = 0.42211941\n",
      "Iteration 63, loss = 0.42627152\n",
      "Iteration 64, loss = 0.42443330\n",
      "Iteration 65, loss = 0.42182937\n",
      "Iteration 66, loss = 0.42108616\n",
      "Iteration 67, loss = 0.42222954\n",
      "Iteration 68, loss = 0.42123992\n",
      "Iteration 69, loss = 0.42107592\n",
      "Iteration 70, loss = 0.42083616\n",
      "Iteration 71, loss = 0.42096679\n",
      "Iteration 72, loss = 0.42154061\n",
      "Iteration 73, loss = 0.42242396\n",
      "Iteration 74, loss = 0.42055481\n",
      "Iteration 75, loss = 0.42094526\n",
      "Iteration 76, loss = 0.42527234\n",
      "Iteration 77, loss = 0.42347479\n",
      "Iteration 78, loss = 0.42239103\n",
      "Iteration 79, loss = 0.41992167\n",
      "Iteration 80, loss = 0.42049700\n",
      "Iteration 81, loss = 0.42178402\n",
      "Iteration 82, loss = 0.41905874\n",
      "Iteration 83, loss = 0.42534480\n",
      "Iteration 84, loss = 0.42403784\n",
      "Iteration 85, loss = 0.41889122\n",
      "Iteration 86, loss = 0.42171415\n",
      "Iteration 87, loss = 0.43044208\n",
      "Iteration 88, loss = 0.42295654\n",
      "Iteration 89, loss = 0.42411225\n",
      "Iteration 90, loss = 0.42098362\n",
      "Iteration 91, loss = 0.41847929\n",
      "Iteration 92, loss = 0.41868941\n",
      "Iteration 93, loss = 0.41811663\n",
      "Iteration 94, loss = 0.41870604\n",
      "Iteration 95, loss = 0.41926703\n",
      "Iteration 96, loss = 0.41703765\n",
      "Iteration 97, loss = 0.41806619\n",
      "Iteration 98, loss = 0.42079404\n",
      "Iteration 99, loss = 0.41729867\n",
      "Iteration 100, loss = 0.41869791\n",
      "Iteration 101, loss = 0.41893081\n",
      "Iteration 102, loss = 0.41744048\n",
      "Iteration 103, loss = 0.41797691\n",
      "Iteration 104, loss = 0.41708125\n",
      "Iteration 105, loss = 0.41794447\n",
      "Iteration 106, loss = 0.41803001\n",
      "Iteration 107, loss = 0.41799657\n",
      "Training loss did not improve more than tol=0.000100 for 10 consecutive epochs. Stopping.\n"
     ]
    },
    {
     "data": {
      "text/plain": [
       "MLPClassifier(hidden_layer_sizes=(500, 100, 30), verbose=True)"
      ]
     },
     "execution_count": 51,
     "metadata": {},
     "output_type": "execute_result"
    }
   ],
   "source": [
    "comp_server.fit(train_combined, y_train)"
   ]
  },
  {
   "cell_type": "code",
   "execution_count": 52,
   "id": "11edd4bd-9f5c-42bf-a1cb-93a33201b3c7",
   "metadata": {},
   "outputs": [],
   "source": [
    "pred_train_combined = comp_server.predict(train_combined)\n",
    "# pred_test_combined = comp_server.predict(test_combined)"
   ]
  },
  {
   "cell_type": "code",
   "execution_count": 53,
   "id": "7856c467-6e53-4095-9d21-bf2e8c0be37f",
   "metadata": {},
   "outputs": [],
   "source": [
    "train_acc_combined = accuracy_score(pred_train_combined, y_train)"
   ]
  },
  {
   "cell_type": "code",
   "execution_count": 54,
   "id": "8a50923c-ffbc-4748-b78e-dd4f21040383",
   "metadata": {},
   "outputs": [
    {
     "name": "stdout",
     "output_type": "stream",
     "text": [
      "Holder 0 train accuracy: 71.316%\n",
      "Holder 1 train accuracy: 79.303%\n",
      "Holder 2 train accuracy: 71.091%\n",
      "Combined accuracy: 81.552%\n"
     ]
    }
   ],
   "source": [
    "for i, acc in accuracies.items():\n",
    "    print(f\"Holder {i} train accuracy: {acc:.3f}%\")\n",
    "\n",
    "print(f\"Combined accuracy: {100*train_acc_combined:.3f}%\")"
   ]
  },
  {
   "cell_type": "code",
   "execution_count": null,
   "id": "70c6128d-1cf4-4d3e-bb09-526ffccad8ff",
   "metadata": {},
   "outputs": [],
   "source": []
  }
 ],
 "metadata": {
  "kernelspec": {
   "display_name": "Python 3 (ipykernel)",
   "language": "python",
   "name": "python3"
  },
  "language_info": {
   "codemirror_mode": {
    "name": "ipython",
    "version": 3
   },
   "file_extension": ".py",
   "mimetype": "text/x-python",
   "name": "python",
   "nbconvert_exporter": "python",
   "pygments_lexer": "ipython3",
   "version": "3.8.10"
  }
 },
 "nbformat": 4,
 "nbformat_minor": 5
}
